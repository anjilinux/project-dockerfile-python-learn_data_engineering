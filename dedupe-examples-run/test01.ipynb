{
 "cells": [
  {
   "cell_type": "markdown",
   "metadata": {},
   "source": [
    "\n",
    "https://www.kdnuggets.com/2016/06/regularization-logistic-regression.html\n",
    "\n",
    "https://github.com/dedupeio/dedupe/tree/master/docs\n",
    "\n",
    "https://github.com/dedupeio/dedupe-examples/tree/master/csv_example\n",
    "\n",
    "https://dedupeio.github.io/dedupe-examples/docs/csv_example.html\n",
    "\n",
    "https://dedupe.io/developers/library/en/latest/API-documentation.html#\n"
   ]
  },
  {
   "cell_type": "code",
   "execution_count": 1,
   "metadata": {},
   "outputs": [],
   "source": [
    "import os\n",
    "import re\n",
    "import csv\n",
    "import string\n",
    "import dedupe\n",
    "from unidecode import unidecode\n",
    "import pandas as pd\n",
    "import numpy as np"
   ]
  },
  {
   "cell_type": "code",
   "execution_count": 2,
   "metadata": {},
   "outputs": [
    {
     "data": {
      "text/plain": [
       "'C:\\\\Github\\\\dedupe'"
      ]
     },
     "execution_count": 2,
     "metadata": {},
     "output_type": "execute_result"
    }
   ],
   "source": [
    "path = os.getcwd()\n",
    "path"
   ]
  },
  {
   "cell_type": "code",
   "execution_count": 3,
   "metadata": {},
   "outputs": [
    {
     "name": "stdout",
     "output_type": "stream",
     "text": [
      "importing data ...\n"
     ]
    }
   ],
   "source": [
    "\n",
    "\n",
    "def preProcess(column):\n",
    "\n",
    "#\n",
    "\n",
    "    try : # python 2/3 string differences\n",
    "        column = column.decode('utf8')\n",
    "    except AttributeError:\n",
    "        pass\n",
    "    column = unidecode(column)\n",
    "    column = re.sub('  +', ' ', column)\n",
    "    column = re.sub('\\n', ' ', column)\n",
    "    column = column.strip().strip('\"').strip(\"'\").lower().strip()\n",
    "\n",
    "#If data is missing, indicate that by setting the value to None\n",
    "\n",
    "    if not column:\n",
    "        column = None\n",
    "    return column\n",
    "\n",
    "#Read in our data from a CSV file and create a dictionary of records, where the key is a unique record ID and each value is dict\n",
    "\n",
    "def readData(filename):\n",
    "\n",
    "#\n",
    "\n",
    "    data_d = {}\n",
    "    with open(filename) as f:\n",
    "        reader = csv.DictReader(f)\n",
    "        for row in reader:\n",
    "            clean_row = [(k, preProcess(v)) for (k, v) in row.items()]\n",
    "            row_id = int(row['Id'])\n",
    "            data_d[row_id] = dict(clean_row)\n",
    "\n",
    "    return data_d\n",
    "\n",
    "print('importing data ...')\n",
    "data_dd = readData(path+'\\\\raw.txt')\n",
    "\n"
   ]
  },
  {
   "cell_type": "code",
   "execution_count": 4,
   "metadata": {},
   "outputs": [
    {
     "data": {
      "text/plain": [
       "'1 n ogden ave'"
      ]
     },
     "execution_count": 4,
     "metadata": {},
     "output_type": "execute_result"
    }
   ],
   "source": [
    "data_dd[0]['Address']"
   ]
  },
  {
   "cell_type": "code",
   "execution_count": 5,
   "metadata": {},
   "outputs": [
    {
     "name": "stdout",
     "output_type": "stream",
     "text": [
      "3337\n",
      "Site name     object\n",
      "Address       object\n",
      "Zip          float64\n",
      "Phone        float64\n",
      "dtype: object\n",
      "Site name       0\n",
      "Address         0\n",
      "Zip          1333\n",
      "Phone         146\n",
      "dtype: int64\n"
     ]
    }
   ],
   "source": [
    "raw = pd.read_csv(path+'\\\\raw.txt', sep=',', index_col=None, encoding='utf-8', \n",
    "                 dtype={'Site name':'object', 'Address':'object',\n",
    "                        'Zip':'float', 'Phone':'float'})\n",
    "print(len(raw))\n",
    "match_cols =  ['Site name', 'Address', 'Zip', 'Phone']\n",
    "print(raw[match_cols].dtypes)\n",
    "print(raw[match_cols].isnull().sum())"
   ]
  },
  {
   "cell_type": "code",
   "execution_count": 6,
   "metadata": {},
   "outputs": [],
   "source": [
    "def cleanse_raw(df, cols):\n",
    "    for col in cols:\n",
    "        if df[col].dtype ==  np.object_:\n",
    "            df[col+'_'] = df[col].copy().str.lower().str.replace('[^a-zA-Z0-9]', ' ').copy()\n",
    "        else:\n",
    "            df[col+'_'] = df[col].copy()\n",
    "    return df"
   ]
  },
  {
   "cell_type": "code",
   "execution_count": 7,
   "metadata": {},
   "outputs": [],
   "source": [
    "cleansed = cleanse_raw(raw, match_cols)\n",
    "clean_cols = [x for x in cleansed.columns if '_' in x]"
   ]
  },
  {
   "cell_type": "code",
   "execution_count": 8,
   "metadata": {},
   "outputs": [
    {
     "data": {
      "text/plain": [
       "{'Address_': u'1 n ogden ave ',\n",
       " 'Phone_': 2262649.0,\n",
       " 'Site name_': u' salvation army   temple   salvation army',\n",
       " 'Zip_': nan}"
      ]
     },
     "execution_count": 8,
     "metadata": {},
     "output_type": "execute_result"
    }
   ],
   "source": [
    "data_d = cleansed[clean_cols].to_dict(orient='index')\n",
    "data_d[0]"
   ]
  },
  {
   "cell_type": "code",
   "execution_count": 9,
   "metadata": {},
   "outputs": [
    {
     "ename": "NameError",
     "evalue": "name 'k' is not defined",
     "output_type": "error",
     "traceback": [
      "\u001b[1;31m\u001b[0m",
      "\u001b[1;31mNameError\u001b[0mTraceback (most recent call last)",
      "\u001b[1;32m<ipython-input-9-c1d940553d48>\u001b[0m in \u001b[0;36m<module>\u001b[1;34m()\u001b[0m\n\u001b[1;32m----> 1\u001b[1;33m \u001b[0mdata_d\u001b[0m\u001b[1;33m[\u001b[0m\u001b[0mk\u001b[0m\u001b[1;33m]\u001b[0m\u001b[1;33m.\u001b[0m\u001b[0mkeys\u001b[0m\u001b[1;33m(\u001b[0m\u001b[1;33m)\u001b[0m\u001b[1;33m\u001b[0m\u001b[0m\n\u001b[0m",
      "\u001b[1;31mNameError\u001b[0m: name 'k' is not defined"
     ]
    }
   ],
   "source": [
    "data_d[k].keys()"
   ]
  },
  {
   "cell_type": "code",
   "execution_count": 11,
   "metadata": {},
   "outputs": [],
   "source": [
    "for k in data_d.keys():\n",
    "    for k1 in ['Address_', 'Site name_']:\n",
    "        data_d[k][k1] = str(data_d[k][k1])\n",
    "    for k2 in ['Zip_', 'Phone_']:\n",
    "        if np.isnan(data_d[k][k2]):\n",
    "            data_d[k][k2] = None"
   ]
  },
  {
   "cell_type": "markdown",
   "metadata": {},
   "source": [
    "# Dedupe"
   ]
  },
  {
   "cell_type": "code",
   "execution_count": 13,
   "metadata": {},
   "outputs": [],
   "source": [
    "# define fields to use for de-dedup\n",
    "fields = [\n",
    "    {'field' : 'Site name', 'type': 'String'},\n",
    "    {'field' : 'Address', 'type': 'String'},\n",
    "    {'field' : 'Zip', 'type': 'Exact', 'has missing' : True},\n",
    "    {'field' : 'Phone', 'type': 'String', 'has missing' : True},\n",
    "    ]"
   ]
  },
  {
   "cell_type": "code",
   "execution_count": 14,
   "metadata": {},
   "outputs": [],
   "source": [
    "# Create a new deduper object and pass our data model to it.\n",
    "deduper = dedupe.Dedupe(fields)"
   ]
  },
  {
   "cell_type": "code",
   "execution_count": 15,
   "metadata": {},
   "outputs": [
    {
     "name": "stderr",
     "output_type": "stream",
     "text": [
      "C:\\Users\\Ben\\Anaconda2\\lib\\site-packages\\dedupe\\sampling.py:39: UserWarning: 5000 blocked samples were requested, but only able to sample 4998\n",
      "  % (sample_size, len(blocked_sample)))\n",
      "INFO:dedupe.canopy_index:Removing stop word  s\n"
     ]
    }
   ],
   "source": [
    "deduper.sample(data_dd, sample_size=10000)"
   ]
  },
  {
   "cell_type": "code",
   "execution_count": 16,
   "metadata": {},
   "outputs": [
    {
     "name": "stderr",
     "output_type": "stream",
     "text": [
      "Site name : henry booth house whiz kids nursery 518 w 103 rd st\n",
      "Address : 518 w 103rd street\n",
      "Zip : 60628\n",
      "Phone : 2339445\n",
      "\n",
      "Site name : henry booth house whiz kids nursery 518 w 103 rd st\n",
      "Address : 518 w 103rd st.\n",
      "Zip : 60628\n",
      "Phone : 2339445\n",
      "\n",
      "0/10 positive, 0/10 negative\n",
      "Do these records refer to the same thing?\n",
      "(y)es / (n)o / (u)nsure / (f)inished\n"
     ]
    },
    {
     "name": "stdout",
     "output_type": "stream",
     "text": [
      "y\n"
     ]
    },
    {
     "name": "stderr",
     "output_type": "stream",
     "text": [
      "Site name : chicago public schools hamline, john h\n",
      "Address : 4747 s bishop st\n",
      "Zip : 60609\n",
      "Phone : 5354565\n",
      "\n",
      "Site name : chicago public schools hamline, john h\n",
      "Address : 4652 s. bishop\n",
      "Zip : 60609\n",
      "Phone : 5354520\n",
      "\n",
      "1/10 positive, 0/10 negative\n",
      "Do these records refer to the same thing?\n",
      "(y)es / (n)o / (u)nsure / (f)inished / (p)revious\n"
     ]
    },
    {
     "name": "stdout",
     "output_type": "stream",
     "text": [
      "y\n"
     ]
    },
    {
     "name": "stderr",
     "output_type": "stream",
     "text": [
      "INFO:dedupe.training:Final predicate set:\n",
      "INFO:dedupe.training:(SimplePredicate: (commonIntegerPredicate, Site name), SimplePredicate: (wholeFieldPredicate, Zip))\n",
      "Site name : chicago public schools ryerson, martin a.\n",
      "Address : 646 n lawndale\n",
      "Zip : 60624\n",
      "Phone : 5346700\n",
      "\n",
      "Site name : aunt martha's - riverdale site\n",
      "Address : 14424 wentworth avenue riverdale, il 60827\n",
      "Zip : None\n",
      "Phone : 8496019\n",
      "\n",
      "2/10 positive, 0/10 negative\n",
      "Do these records refer to the same thing?\n",
      "(y)es / (n)o / (u)nsure / (f)inished / (p)revious\n"
     ]
    },
    {
     "name": "stdout",
     "output_type": "stream",
     "text": [
      "n\n"
     ]
    },
    {
     "name": "stderr",
     "output_type": "stream",
     "text": [
      "INFO:dedupe.training:Final predicate set:\n",
      "INFO:dedupe.training:(SimplePredicate: (wholeFieldPredicate, Site name), SimplePredicate: (wholeFieldPredicate, Zip))\n",
      "Site name : chicago commons association - nia family center\n",
      "Address : 744 n monticello ave\n",
      "Zip : None\n",
      "Phone : 8266971\n",
      "\n",
      "Site name : belding\n",
      "Address : 4257 n. tripp\n",
      "Zip : 60641\n",
      "Phone : 5343590\n",
      "\n",
      "2/10 positive, 1/10 negative\n",
      "Do these records refer to the same thing?\n",
      "(y)es / (n)o / (u)nsure / (f)inished / (p)revious\n"
     ]
    },
    {
     "name": "stdout",
     "output_type": "stream",
     "text": [
      "n\n"
     ]
    },
    {
     "name": "stderr",
     "output_type": "stream",
     "text": [
      "Site name : carole robertson center for learning - carole robertson center- ogden 3701\n",
      "Address : 3701 w ogden ave\n",
      "Zip : None\n",
      "Phone : 5228400\n",
      "\n",
      "Site name : home of life community dev. corp. home of life just for you (773)-626-8655\n",
      "Address : 4647 w. washington\n",
      "Zip : 60644\n",
      "Phone : None\n",
      "\n",
      "2/10 positive, 2/10 negative\n",
      "Do these records refer to the same thing?\n",
      "(y)es / (n)o / (u)nsure / (f)inished / (p)revious\n"
     ]
    },
    {
     "name": "stdout",
     "output_type": "stream",
     "text": [
      "n\n"
     ]
    },
    {
     "name": "stderr",
     "output_type": "stream",
     "text": [
      "Site name : chicago youth centers - fellowship house / cyc\n",
      "Address : 844 w 32nd st\n",
      "Zip : None\n",
      "Phone : 3262282\n",
      "\n",
      "Site name : chicago youth centers fellowship house\n",
      "Address : 844 w 32nd st\n",
      "Zip : 60608\n",
      "Phone : 3262282\n",
      "\n",
      "2/10 positive, 3/10 negative\n",
      "Do these records refer to the same thing?\n",
      "(y)es / (n)o / (u)nsure / (f)inished / (p)revious\n"
     ]
    },
    {
     "name": "stdout",
     "output_type": "stream",
     "text": [
      "y\n"
     ]
    },
    {
     "name": "stderr",
     "output_type": "stream",
     "text": [
      "Site name : marcy newberry association - new birth\n",
      "Address : 1500 w 69th st\n",
      "Zip : None\n",
      "Phone : 4710699\n",
      "\n",
      "Site name : marcy newberry association - new birth\n",
      "Address : 1500 w 69th st\n",
      "Zip : None\n",
      "Phone : 4710699\n",
      "\n",
      "3/10 positive, 3/10 negative\n",
      "Do these records refer to the same thing?\n",
      "(y)es / (n)o / (u)nsure / (f)inished / (p)revious\n"
     ]
    },
    {
     "name": "stdout",
     "output_type": "stream",
     "text": [
      "y\n"
     ]
    },
    {
     "name": "stderr",
     "output_type": "stream",
     "text": [
      "INFO:dedupe.training:Final predicate set:\n",
      "INFO:dedupe.training:(LevenshteinCanopyPredicate: (3, Address), LevenshteinCanopyPredicate: (4, Site name))\n",
      "INFO:dedupe.training:(SimplePredicate: (commonIntegerPredicate, Site name), SimplePredicate: (wholeFieldPredicate, Zip))\n",
      "Site name : henry booth house little folks day care\n",
      "Address : 2527 e 73rd st.\n",
      "Zip : 60649\n",
      "Phone : None\n",
      "\n",
      "Site name : ymca south side\n",
      "Address : 6330 s stony island avenue\n",
      "Zip : 60637\n",
      "Phone : 9470700\n",
      "\n",
      "4/10 positive, 3/10 negative\n",
      "Do these records refer to the same thing?\n",
      "(y)es / (n)o / (u)nsure / (f)inished / (p)revious\n"
     ]
    },
    {
     "name": "stdout",
     "output_type": "stream",
     "text": [
      "n\n"
     ]
    },
    {
     "name": "stderr",
     "output_type": "stream",
     "text": [
      "Site name : north avenue day nursery north avenue day nursery\n",
      "Address : 2001 w pierce\n",
      "Zip : 60622\n",
      "Phone : 3424499\n",
      "\n",
      "Site name : north avenue day nursery\n",
      "Address : 2001 w pierce street\n",
      "Zip : 60622\n",
      "Phone : 3424499\n",
      "\n",
      "4/10 positive, 4/10 negative\n",
      "Do these records refer to the same thing?\n",
      "(y)es / (n)o / (u)nsure / (f)inished / (p)revious\n"
     ]
    },
    {
     "name": "stdout",
     "output_type": "stream",
     "text": [
      "y\n"
     ]
    },
    {
     "name": "stderr",
     "output_type": "stream",
     "text": [
      "Site name : mary crane west\n",
      "Address : 2820 n. leavitt\n",
      "Zip : None\n",
      "Phone : 3485528\n",
      "\n",
      "Site name : mary crane north\n",
      "Address : 2905 n. leavitt\n",
      "Zip : 60618\n",
      "Phone : 3485528\n",
      "\n",
      "5/10 positive, 4/10 negative\n",
      "Do these records refer to the same thing?\n",
      "(y)es / (n)o / (u)nsure / (f)inished / (p)revious\n"
     ]
    },
    {
     "name": "stdout",
     "output_type": "stream",
     "text": [
      "y\n"
     ]
    },
    {
     "name": "stderr",
     "output_type": "stream",
     "text": [
      "INFO:dedupe.training:Final predicate set:\n",
      "INFO:dedupe.training:(SimplePredicate: (twoGramFingerprint, Site name), SimplePredicate: (wholeFieldPredicate, Zip))\n",
      "INFO:dedupe.training:(SimplePredicate: (commonThreeTokens, Site name), SimplePredicate: (wholeFieldPredicate, Address))\n",
      "Site name : family rescue - ridgeland head start\n",
      "Address : 6824 s ridgeland ave\n",
      "Zip : None\n",
      "Phone : 6671073\n",
      "\n",
      "Site name : family rescue ridgeland\n",
      "Address : 6824 s ridgeland avenue\n",
      "Zip : 60649\n",
      "Phone : 6671073\n",
      "\n",
      "6/10 positive, 4/10 negative\n",
      "Do these records refer to the same thing?\n",
      "(y)es / (n)o / (u)nsure / (f)inished / (p)revious\n"
     ]
    },
    {
     "name": "stdout",
     "output_type": "stream",
     "text": [
      "y\n"
     ]
    },
    {
     "name": "stderr",
     "output_type": "stream",
     "text": [
      "INFO:dedupe.training:Final predicate set:\n",
      "INFO:dedupe.training:(SimplePredicate: (twoGramFingerprint, Site name), SimplePredicate: (wholeFieldPredicate, Zip))\n",
      "INFO:dedupe.training:(LevenshteinCanopyPredicate: (4, Site name), SimplePredicate: (suffixArray, Address))\n",
      "Site name : north avenue day nursery - north avenue day nursery\n",
      "Address : 2001 w pierce ave\n",
      "Zip : None\n",
      "Phone : 3424499\n",
      "\n",
      "Site name : north avenue day nursery\n",
      "Address : 2001 w pierce street\n",
      "Zip : 60622\n",
      "Phone : 3424499\n",
      "\n",
      "7/10 positive, 4/10 negative\n",
      "Do these records refer to the same thing?\n",
      "(y)es / (n)o / (u)nsure / (f)inished / (p)revious\n"
     ]
    },
    {
     "name": "stdout",
     "output_type": "stream",
     "text": [
      "y\n"
     ]
    },
    {
     "name": "stderr",
     "output_type": "stream",
     "text": [
      "INFO:dedupe.training:Final predicate set:\n",
      "INFO:dedupe.training:(SimplePredicate: (sortedAcronym, Address), TfidfTextCanopyPredicate: (0.8, Site name))\n",
      "INFO:dedupe.training:(SimplePredicate: (twoGramFingerprint, Site name), SimplePredicate: (wholeFieldPredicate, Zip))\n",
      "Site name : erie house\n",
      "Address : 1701 w. superior\n",
      "Zip : 60622\n",
      "Phone : 5635800\n",
      "\n",
      "Site name : erie house i/t\n",
      "Address : 1701 w. superior\n",
      "Zip : 60622\n",
      "Phone : 5635800\n",
      "\n",
      "8/10 positive, 4/10 negative\n",
      "Do these records refer to the same thing?\n",
      "(y)es / (n)o / (u)nsure / (f)inished / (p)revious\n"
     ]
    },
    {
     "name": "stdout",
     "output_type": "stream",
     "text": [
      "y\n"
     ]
    },
    {
     "name": "stderr",
     "output_type": "stream",
     "text": [
      "INFO:dedupe.training:Final predicate set:\n",
      "INFO:dedupe.training:(SimplePredicate: (sameFiveCharStartPredicate, Phone), TfidfTextCanopyPredicate: (0.8, Site name))\n",
      "Site name : perez\n",
      "Address : 1241 w. 19th st.\n",
      "Zip : None\n",
      "Phone : 5347650\n",
      "\n",
      "Site name : colemon, johnnie\n",
      "Address : 1441 w. 119th st.\n",
      "Zip : 60643\n",
      "Phone : 5353975\n",
      "\n",
      "9/10 positive, 4/10 negative\n",
      "Do these records refer to the same thing?\n",
      "(y)es / (n)o / (u)nsure / (f)inished / (p)revious\n"
     ]
    },
    {
     "name": "stdout",
     "output_type": "stream",
     "text": [
      "n\n"
     ]
    },
    {
     "name": "stderr",
     "output_type": "stream",
     "text": [
      "INFO:dedupe.training:Final predicate set:\n",
      "INFO:dedupe.training:(TfidfTextCanopyPredicate: (0.4, Phone), TfidfTextCanopyPredicate: (0.8, Site name))\n",
      "INFO:dedupe.training:(LevenshteinCanopyPredicate: (3, Site name), SimplePredicate: (wholeFieldPredicate, Zip))\n",
      "Site name : catholic charities of the archdiocese of chicago - grace mission\n",
      "Address : 5332 s western ave\n",
      "Zip : None\n",
      "Phone : 4761990\n",
      "\n",
      "Site name : catholic charities-grace mission\n",
      "Address : 5332 s. western\n",
      "Zip : 60609\n",
      "Phone : 4761900\n",
      "\n",
      "9/10 positive, 5/10 negative\n",
      "Do these records refer to the same thing?\n",
      "(y)es / (n)o / (u)nsure / (f)inished / (p)revious\n"
     ]
    },
    {
     "name": "stdout",
     "output_type": "stream",
     "text": [
      "y\n"
     ]
    },
    {
     "name": "stderr",
     "output_type": "stream",
     "text": [
      "Site name : firman community services - firman house south\n",
      "Address : 5401 s wentworth ave\n",
      "Zip : None\n",
      "Phone : 4513400\n",
      "\n",
      "Site name : firman community services firman house south\n",
      "Address : 5401 s wentworth ave\n",
      "Zip : 60609\n",
      "Phone : 3733400\n",
      "\n",
      "10/10 positive, 5/10 negative\n",
      "Do these records refer to the same thing?\n",
      "(y)es / (n)o / (u)nsure / (f)inished / (p)revious\n"
     ]
    },
    {
     "name": "stdout",
     "output_type": "stream",
     "text": [
      "y\n"
     ]
    },
    {
     "name": "stderr",
     "output_type": "stream",
     "text": [
      "INFO:dedupe.training:Final predicate set:\n",
      "INFO:dedupe.training:(TfidfNGramCanopyPredicate: (0.6, Site name), TfidfTextCanopyPredicate: (0.4, Address))\n",
      "Site name : trinity united church of christ - trinity united\n",
      "Address : 532 w 95th st\n",
      "Zip : None\n",
      "Phone : 4883511\n",
      "\n",
      "Site name : trinity united church of christ trinity ucc\n",
      "Address : 532 w 95th st\n",
      "Zip : 60628\n",
      "Phone : None\n",
      "\n",
      "11/10 positive, 5/10 negative\n",
      "Do these records refer to the same thing?\n",
      "(y)es / (n)o / (u)nsure / (f)inished / (p)revious\n"
     ]
    },
    {
     "name": "stdout",
     "output_type": "stream",
     "text": [
      "y\n"
     ]
    },
    {
     "name": "stderr",
     "output_type": "stream",
     "text": [
      "Site name : chicago commons association - nia family center\n",
      "Address : 744 n monticello ave\n",
      "Zip : None\n",
      "Phone : 8266971\n",
      "\n",
      "Site name : chicago commons nia\n",
      "Address : 744 n. monticelo\n",
      "Zip : 60624\n",
      "Phone : 8263770\n",
      "\n",
      "12/10 positive, 5/10 negative\n",
      "Do these records refer to the same thing?\n",
      "(y)es / (n)o / (u)nsure / (f)inished / (p)revious\n"
     ]
    },
    {
     "name": "stdout",
     "output_type": "stream",
     "text": [
      "y\n"
     ]
    },
    {
     "name": "stderr",
     "output_type": "stream",
     "text": [
      "INFO:dedupe.training:Final predicate set:\n",
      "INFO:dedupe.training:(SimplePredicate: (sameSevenCharStartPredicate, Site name), TfidfTextCanopyPredicate: (0.4, Address))\n",
      "Site name : ada s. mckinley community services - little hands\n",
      "Address : 7146 s ashland ave\n",
      "Zip : None\n",
      "Phone : None\n",
      "\n",
      "Site name : childserv englewood\n",
      "Address : 7928 s ashland avenue\n",
      "Zip : 60620\n",
      "Phone : None\n",
      "\n",
      "13/10 positive, 5/10 negative\n",
      "Do these records refer to the same thing?\n",
      "(y)es / (n)o / (u)nsure / (f)inished / (p)revious\n"
     ]
    },
    {
     "name": "stdout",
     "output_type": "stream",
     "text": [
      "n\n"
     ]
    },
    {
     "name": "stderr",
     "output_type": "stream",
     "text": [
      "Site name : ymca high ridge\n",
      "Address : 2424 w. touhy\n",
      "Zip : None\n",
      "Phone : 2628300\n",
      "\n",
      "Site name : ymca of metropolitan chicago high ridge\n",
      "Address : 2424 w. touhy\n",
      "Zip : 60645\n",
      "Phone : 2628300\n",
      "\n",
      "13/10 positive, 6/10 negative\n",
      "Do these records refer to the same thing?\n",
      "(y)es / (n)o / (u)nsure / (f)inished / (p)revious\n"
     ]
    },
    {
     "name": "stdout",
     "output_type": "stream",
     "text": [
      "y\n"
     ]
    },
    {
     "name": "stderr",
     "output_type": "stream",
     "text": [
      "Site name : ymca of metropolitan chicago - garfield head start/child developmental center- ymca\n",
      "Address : 7 n homan ave\n",
      "Zip : None\n",
      "Phone : 2653900\n",
      "\n",
      "Site name : ymca garfield\n",
      "Address : 7 n homan avenue\n",
      "Zip : 60624\n",
      "Phone : 2653900\n",
      "\n",
      "14/10 positive, 6/10 negative\n",
      "Do these records refer to the same thing?\n",
      "(y)es / (n)o / (u)nsure / (f)inished / (p)revious\n"
     ]
    },
    {
     "name": "stdout",
     "output_type": "stream",
     "text": [
      "y\n"
     ]
    },
    {
     "name": "stderr",
     "output_type": "stream",
     "text": [
      "INFO:dedupe.training:Final predicate set:\n",
      "INFO:dedupe.training:(SimplePredicate: (firstTokenPredicate, Site name), TfidfTextCanopyPredicate: (0.4, Address))\n",
      "Site name : mary crane league mary crane center (east)\n",
      "Address : 2974 n. clybourn\n",
      "Zip : 60618\n",
      "Phone : 9388130\n",
      "\n",
      "Site name : mary crane league mary crane center (north)\n",
      "Address : 2905 n. leavitt\n",
      "Zip : 60618\n",
      "Phone : 9388130\n",
      "\n",
      "15/10 positive, 6/10 negative\n",
      "Do these records refer to the same thing?\n",
      "(y)es / (n)o / (u)nsure / (f)inished / (p)revious\n"
     ]
    },
    {
     "name": "stdout",
     "output_type": "stream",
     "text": [
      "y\n"
     ]
    },
    {
     "name": "stderr",
     "output_type": "stream",
     "text": [
      "Site name : first church of love and faith first church of love and faith\n",
      "Address : 2140 w 79th st\n",
      "Zip : 60620\n",
      "Phone : 8739155\n",
      "\n",
      "Site name : first church of love and faith\n",
      "Address : 2140 w 79th street\n",
      "Zip : 60620\n",
      "Phone : 8739155\n",
      "\n",
      "16/10 positive, 6/10 negative\n",
      "Do these records refer to the same thing?\n",
      "(y)es / (n)o / (u)nsure / (f)inished / (p)revious\n"
     ]
    },
    {
     "name": "stdout",
     "output_type": "stream",
     "text": [
      "y\n"
     ]
    },
    {
     "name": "stderr",
     "output_type": "stream",
     "text": [
      "INFO:dedupe.training:Final predicate set:\n",
      "INFO:dedupe.training:(SimplePredicate: (firstTokenPredicate, Site name), TfidfTextCanopyPredicate: (0.4, Address))\n",
      "INFO:dedupe.training:(LevenshteinCanopyPredicate: (4, Site name), SimplePredicate: (wholeFieldPredicate, Zip))\n",
      "Site name : chicago public schools linne, carl von\n",
      "Address : 3221 n sacramento\n",
      "Zip : 60618\n",
      "Phone : 5345262\n",
      "\n",
      "Site name : linne\n",
      "Address : 3221 n. sacramento\n",
      "Zip : 60618\n",
      "Phone : 5345262\n",
      "\n",
      "17/10 positive, 6/10 negative\n",
      "Do these records refer to the same thing?\n",
      "(y)es / (n)o / (u)nsure / (f)inished / (p)revious\n"
     ]
    },
    {
     "name": "stdout",
     "output_type": "stream",
     "text": [
      "y\n"
     ]
    },
    {
     "name": "stderr",
     "output_type": "stream",
     "text": [
      "INFO:dedupe.training:Final predicate set:\n",
      "INFO:dedupe.training:(SimplePredicate: (commonTwoTokens, Address), SimplePredicate: (firstTokenPredicate, Site name))\n",
      "INFO:dedupe.training:(LevenshteinCanopyPredicate: (4, Site name), SimplePredicate: (wholeFieldPredicate, Zip))\n",
      "Site name : smith\n",
      "Address : 744 e. 103rd st.\n",
      "Zip : None\n",
      "Phone : 5355689\n",
      "\n",
      "Site name : henry booth house little folks day care\n",
      "Address : 2527 e 73rd st.\n",
      "Zip : 60649\n",
      "Phone : None\n",
      "\n",
      "18/10 positive, 6/10 negative\n",
      "Do these records refer to the same thing?\n",
      "(y)es / (n)o / (u)nsure / (f)inished / (p)revious\n"
     ]
    },
    {
     "name": "stdout",
     "output_type": "stream",
     "text": [
      "n\n"
     ]
    },
    {
     "name": "stderr",
     "output_type": "stream",
     "text": [
      "INFO:dedupe.training:Final predicate set:\n",
      "INFO:dedupe.training:(SimplePredicate: (firstTokenPredicate, Site name), TfidfTextCanopyPredicate: (0.4, Address))\n",
      "INFO:dedupe.training:(SimplePredicate: (wholeFieldPredicate, Zip), TfidfTextCanopyPredicate: (0.4, Phone))\n",
      "Site name : el valor - little tykes i\n",
      "Address : 1711 w 35th st\n",
      "Zip : None\n",
      "Phone : 2547700\n",
      "\n",
      "Site name : kkp - little tykes i\n",
      "Address : 1711 w. 35th st.\n",
      "Zip : 60609\n",
      "Phone : 2548396\n",
      "\n",
      "18/10 positive, 7/10 negative\n",
      "Do these records refer to the same thing?\n",
      "(y)es / (n)o / (u)nsure / (f)inished / (p)revious\n"
     ]
    },
    {
     "name": "stdout",
     "output_type": "stream",
     "text": [
      "y\n"
     ]
    },
    {
     "name": "stderr",
     "output_type": "stream",
     "text": [
      "Site name : erie neighborhood house fcch-analida sanchez site\n",
      "Address : 1914 n sayre\n",
      "Zip : 60707\n",
      "Phone : 4322213\n",
      "\n",
      "Site name : erie neighborhood house fcch-margarita del valle site\n",
      "Address : 1004 n kedzie ave\n",
      "Zip : 60651\n",
      "Phone : 4322213\n",
      "\n",
      "19/10 positive, 7/10 negative\n",
      "Do these records refer to the same thing?\n",
      "(y)es / (n)o / (u)nsure / (f)inished / (p)revious\n"
     ]
    },
    {
     "name": "stdout",
     "output_type": "stream",
     "text": [
      "n\n"
     ]
    },
    {
     "name": "stderr",
     "output_type": "stream",
     "text": [
      "INFO:dedupe.training:Final predicate set:\n",
      "INFO:dedupe.training:(SimplePredicate: (sameSevenCharStartPredicate, Address), TfidfTextCanopyPredicate: (0.2, Site name))\n",
      "INFO:dedupe.training:(SimplePredicate: (doubleMetaphone, Address), TfidfTextCanopyPredicate: (0.4, Phone))\n",
      "INFO:dedupe.training:(LevenshteinCanopyPredicate: (4, Site name), SimplePredicate: (wholeFieldPredicate, Zip))\n",
      "Site name : catholic charities of the archdiocese of chicago - our lady of tepeyac\n",
      "Address : 2414 s albany ave\n",
      "Zip : None\n",
      "Phone : 2775888\n",
      "\n",
      "Site name : our lady of tepeyac\n",
      "Address : 2414 south albany avenue\n",
      "Zip : 60623\n",
      "Phone : 2775888\n",
      "\n",
      "19/10 positive, 8/10 negative\n",
      "Do these records refer to the same thing?\n",
      "(y)es / (n)o / (u)nsure / (f)inished / (p)revious\n"
     ]
    },
    {
     "name": "stdout",
     "output_type": "stream",
     "text": [
      "y\n"
     ]
    },
    {
     "name": "stderr",
     "output_type": "stream",
     "text": [
      "Site name : disney magnet ii\n",
      "Address : 3815 n. kedvale\n",
      "Zip : None\n",
      "Phone : 5358650\n",
      "\n",
      "Site name : disney magnet\n",
      "Address : 3815 n. kedvale ave.\n",
      "Zip : 60613\n",
      "Phone : 5345840\n",
      "\n",
      "20/10 positive, 8/10 negative\n",
      "Do these records refer to the same thing?\n",
      "(y)es / (n)o / (u)nsure / (f)inished / (p)revious\n"
     ]
    },
    {
     "name": "stdout",
     "output_type": "stream",
     "text": [
      "y\n"
     ]
    },
    {
     "name": "stderr",
     "output_type": "stream",
     "text": [
      "INFO:dedupe.training:Final predicate set:\n",
      "INFO:dedupe.training:(SimplePredicate: (sameFiveCharStartPredicate, Address), SimplePredicate: (sameThreeCharStartPredicate, Phone))\n",
      "INFO:dedupe.training:(SimplePredicate: (doubleMetaphone, Address), TfidfTextCanopyPredicate: (0.8, Site name))\n",
      "INFO:dedupe.training:(LevenshteinCanopyPredicate: (4, Site name), SimplePredicate: (wholeFieldPredicate, Zip))\n",
      "Site name : chicago youth centers pathways to learning cc1\n",
      "Address : 3460 w 79th st\n",
      "Zip : 60652\n",
      "Phone : 4369244\n",
      "\n",
      "Site name : chicago youth centers pathways to learning cc\n",
      "Address : 3418 w 79th st\n",
      "Zip : 60652\n",
      "Phone : 7765439\n",
      "\n",
      "21/10 positive, 8/10 negative\n",
      "Do these records refer to the same thing?\n",
      "(y)es / (n)o / (u)nsure / (f)inished / (p)revious\n"
     ]
    },
    {
     "name": "stdout",
     "output_type": "stream",
     "text": [
      "y\n"
     ]
    },
    {
     "name": "stderr",
     "output_type": "stream",
     "text": [
      "INFO:dedupe.training:Final predicate set:\n",
      "INFO:dedupe.training:(SimplePredicate: (sameFiveCharStartPredicate, Address), TfidfNGramCanopyPredicate: (0.4, Address))\n",
      "INFO:dedupe.training:(LevenshteinCanopyPredicate: (4, Site name), SimplePredicate: (sameFiveCharStartPredicate, Phone))\n",
      "Site name : mary crane league mary crane center (west)\n",
      "Address : 2820 n leavitt\n",
      "Zip : 60618\n",
      "Phone : 3485528\n",
      "\n",
      "Site name : mary crane north\n",
      "Address : 2905 n. leavitt\n",
      "Zip : 60618\n",
      "Phone : 3485528\n",
      "\n",
      "22/10 positive, 8/10 negative\n",
      "Do these records refer to the same thing?\n",
      "(y)es / (n)o / (u)nsure / (f)inished / (p)revious\n"
     ]
    },
    {
     "name": "stdout",
     "output_type": "stream",
     "text": [
      "y\n"
     ]
    },
    {
     "name": "stderr",
     "output_type": "stream",
     "text": [
      "INFO:dedupe.training:Final predicate set:\n",
      "INFO:dedupe.training:(SimplePredicate: (sameFiveCharStartPredicate, Address), SimplePredicate: (sortedAcronym, Phone))\n",
      "INFO:dedupe.training:(SimplePredicate: (suffixArray, Address), TfidfNGramCanopyPredicate: (0.8, Site name))\n",
      "INFO:dedupe.training:(LevenshteinCanopyPredicate: (4, Site name), SimplePredicate: (wholeFieldPredicate, Zip))\n",
      "Site name : mary crane league - mary crane - east\n",
      "Address : 2974 n clybourn ave\n",
      "Zip : None\n",
      "Phone : 3485528\n",
      "\n",
      "Site name : mary crane\n",
      "Address : 2905 n. leavitt\n",
      "Zip : 60618\n",
      "Phone : 3485528\n",
      "\n",
      "23/10 positive, 8/10 negative\n",
      "Do these records refer to the same thing?\n",
      "(y)es / (n)o / (u)nsure / (f)inished / (p)revious\n"
     ]
    },
    {
     "name": "stdout",
     "output_type": "stream",
     "text": [
      "y\n"
     ]
    },
    {
     "name": "stderr",
     "output_type": "stream",
     "text": [
      "Site name : bunnyland developmental childcare\n",
      "Address : 545 w. 119th street\n",
      "Zip : None\n",
      "Phone : 5685200\n",
      "\n",
      "Site name : henry booth house bunnyland land day care\n",
      "Address : 545 w 119th street\n",
      "Zip : 60628\n",
      "Phone : 5685200\n",
      "\n",
      "24/10 positive, 8/10 negative\n",
      "Do these records refer to the same thing?\n",
      "(y)es / (n)o / (u)nsure / (f)inished / (p)revious\n"
     ]
    },
    {
     "name": "stdout",
     "output_type": "stream",
     "text": [
      "y\n"
     ]
    },
    {
     "name": "stderr",
     "output_type": "stream",
     "text": [
      "INFO:dedupe.training:Final predicate set:\n",
      "INFO:dedupe.training:(SimplePredicate: (sameFiveCharStartPredicate, Address), TfidfTextCanopyPredicate: (0.4, Address))\n",
      "INFO:dedupe.training:(TfidfTextCanopyPredicate: (0.4, Phone), TfidfTextCanopyPredicate: (0.8, Site name))\n",
      "INFO:dedupe.training:(LevenshteinCanopyPredicate: (1, Site name), SimplePredicate: (wholeFieldPredicate, Zip))\n",
      "Site name : carole robertson center for learning fcch-darlene mcghee\n",
      "Address : 8055 s wood\n",
      "Zip : 60620\n",
      "Phone : 9945193\n",
      "\n",
      "Site name : carole robertson center for learning fcch-tosha kelly\n",
      "Address : 8050 s honore\n",
      "Zip : 60620\n",
      "Phone : None\n",
      "\n",
      "25/10 positive, 8/10 negative\n",
      "Do these records refer to the same thing?\n",
      "(y)es / (n)o / (u)nsure / (f)inished / (p)revious\n"
     ]
    },
    {
     "name": "stdout",
     "output_type": "stream",
     "text": [
      "y\n"
     ]
    },
    {
     "name": "stderr",
     "output_type": "stream",
     "text": [
      "Site name : haymarket center wholly innocence day care center\n",
      "Address : 34 n sangamon\n",
      "Zip : 60607\n",
      "Phone : 2267984\n",
      "\n",
      "Site name : haymarket center haymarket center\n",
      "Address : 120 n sangamon\n",
      "Zip : 60607\n",
      "Phone : 2267984\n",
      "\n",
      "26/10 positive, 8/10 negative\n",
      "Do these records refer to the same thing?\n",
      "(y)es / (n)o / (u)nsure / (f)inished / (p)revious\n"
     ]
    },
    {
     "name": "stdout",
     "output_type": "stream",
     "text": [
      "y\n"
     ]
    },
    {
     "name": "stderr",
     "output_type": "stream",
     "text": [
      "INFO:dedupe.training:Final predicate set:\n",
      "INFO:dedupe.training:(SimplePredicate: (sameFiveCharStartPredicate, Address), TfidfTextCanopyPredicate: (0.4, Address))\n",
      "INFO:dedupe.training:(SimplePredicate: (wholeFieldPredicate, Zip), TfidfNGramCanopyPredicate: (0.8, Site name))\n",
      "INFO:dedupe.training:(TfidfTextCanopyPredicate: (0.4, Phone), TfidfTextCanopyPredicate: (0.8, Site name))\n",
      "Site name : henry booth house - little hands & feet\n",
      "Address : 7801 s wolcott ave\n",
      "Zip : None\n",
      "Phone : None\n",
      "\n",
      "Site name : henry booth house little hands & feet\n",
      "Address : 7801 s wolcott\n",
      "Zip : 60620\n",
      "Phone : 9948561\n",
      "\n",
      "27/10 positive, 8/10 negative\n",
      "Do these records refer to the same thing?\n",
      "(y)es / (n)o / (u)nsure / (f)inished / (p)revious\n"
     ]
    },
    {
     "name": "stdout",
     "output_type": "stream",
     "text": [
      "y\n"
     ]
    },
    {
     "name": "stderr",
     "output_type": "stream",
     "text": [
      "INFO:dedupe.training:Final predicate set:\n",
      "INFO:dedupe.training:(SimplePredicate: (sameFiveCharStartPredicate, Address), TfidfTextCanopyPredicate: (0.4, Address))\n",
      "INFO:dedupe.training:(SimplePredicate: (wholeFieldPredicate, Zip), TfidfTextCanopyPredicate: (0.6, Site name))\n",
      "INFO:dedupe.training:(TfidfTextCanopyPredicate: (0.4, Phone), TfidfTextCanopyPredicate: (0.8, Site name))\n",
      "Site name : carole robertson center for learning - carole robertson center 2929\n",
      "Address : 2929 w 19th st\n",
      "Zip : None\n",
      "Phone : 5211600\n",
      "\n",
      "Site name : carole robertson center for learning fcch-rhonda culverson\n",
      "Address : 3826 w 85th street\n",
      "Zip : 60629\n",
      "Phone : 5211600\n",
      "\n",
      "28/10 positive, 8/10 negative\n",
      "Do these records refer to the same thing?\n",
      "(y)es / (n)o / (u)nsure / (f)inished / (p)revious\n"
     ]
    },
    {
     "name": "stdout",
     "output_type": "stream",
     "text": [
      "y\n"
     ]
    },
    {
     "name": "stderr",
     "output_type": "stream",
     "text": [
      "INFO:dedupe.training:Final predicate set:\n",
      "INFO:dedupe.training:(SimplePredicate: (sameFiveCharStartPredicate, Address), TfidfNGramCanopyPredicate: (0.4, Address))\n",
      "INFO:dedupe.training:(SimplePredicate: (wholeFieldPredicate, Zip), TfidfTextCanopyPredicate: (0.6, Site name))\n",
      "INFO:dedupe.training:(TfidfTextCanopyPredicate: (0.4, Phone), TfidfTextCanopyPredicate: (0.8, Site name))\n",
      "Site name : chicago public schools henson, matthew a.\n",
      "Address : 1326 s avers\n",
      "Zip : 60623\n",
      "Phone : 5341804\n",
      "\n",
      "Site name : chicago public schools johnson, james weldon\n",
      "Address : 1504 s albany\n",
      "Zip : 60623\n",
      "Phone : 5341833\n",
      "\n",
      "29/10 positive, 8/10 negative\n",
      "Do these records refer to the same thing?\n",
      "(y)es / (n)o / (u)nsure / (f)inished / (p)revious\n"
     ]
    },
    {
     "name": "stdout",
     "output_type": "stream",
     "text": [
      "n\n"
     ]
    },
    {
     "name": "stderr",
     "output_type": "stream",
     "text": [
      "INFO:dedupe.training:Final predicate set:\n",
      "INFO:dedupe.training:(SimplePredicate: (metaphoneToken, Address), TfidfTextCanopyPredicate: (0.4, Phone))\n",
      "INFO:dedupe.training:(SimplePredicate: (sameSevenCharStartPredicate, Address), TfidfNGramCanopyPredicate: (0.8, Address))\n",
      "INFO:dedupe.training:(SimplePredicate: (wholeFieldPredicate, Zip), TfidfNGramCanopyPredicate: (0.8, Site name))\n",
      "Site name : dumas\n",
      "Address : 6615 s. kenwood ave\n",
      "Zip : None\n",
      "Phone : 5350802\n",
      "\n",
      "Site name : dumas\n",
      "Address : 6650 s. ellis\n",
      "Zip : 60637\n",
      "Phone : 5350750\n",
      "\n",
      "29/10 positive, 9/10 negative\n",
      "Do these records refer to the same thing?\n",
      "(y)es / (n)o / (u)nsure / (f)inished / (p)revious\n"
     ]
    },
    {
     "name": "stdout",
     "output_type": "stream",
     "text": [
      "n\n"
     ]
    },
    {
     "name": "stderr",
     "output_type": "stream",
     "text": [
      "Site name : catholic charities of the archdiocese of chicago st. joseph\n",
      "Address : 4800 s paulina\n",
      "Zip : 60609\n",
      "Phone : 9272524\n",
      "\n",
      "Site name : catholic charities of the archdiocese of chicago grace mission\n",
      "Address : 5332 s. western\n",
      "Zip : 60609\n",
      "Phone : 4761990\n",
      "\n",
      "29/10 positive, 10/10 negative\n",
      "Do these records refer to the same thing?\n",
      "(y)es / (n)o / (u)nsure / (f)inished / (p)revious\n"
     ]
    },
    {
     "name": "stdout",
     "output_type": "stream",
     "text": [
      "u\n"
     ]
    },
    {
     "name": "stderr",
     "output_type": "stream",
     "text": [
      "Site name : jolly fun house playschool\n",
      "Address : 7559 w. addison\n",
      "Zip : None\n",
      "Phone : 6376115\n",
      "\n",
      "Site name : jolly fun house playschool\n",
      "Address : 7559 w addison street\n",
      "Zip : 60634\n",
      "Phone : None\n",
      "\n",
      "29/10 positive, 10/10 negative\n",
      "Do these records refer to the same thing?\n",
      "(y)es / (n)o / (u)nsure / (f)inished / (p)revious\n"
     ]
    },
    {
     "name": "stdout",
     "output_type": "stream",
     "text": [
      "y\n"
     ]
    },
    {
     "name": "stderr",
     "output_type": "stream",
     "text": [
      "Site name : salvation army - family outreach initiative (sal army)\n",
      "Address : 845 w 69th st\n",
      "Zip : None\n",
      "Phone : 8324700\n",
      "\n",
      "Site name : salvation army - red shield\n",
      "Address : 945 w 69th st\n",
      "Zip : None\n",
      "Phone : 3583203\n",
      "\n",
      "30/10 positive, 10/10 negative\n",
      "Do these records refer to the same thing?\n",
      "(y)es / (n)o / (u)nsure / (f)inished / (p)revious\n"
     ]
    },
    {
     "name": "stdout",
     "output_type": "stream",
     "text": [
      "u\n"
     ]
    },
    {
     "name": "stderr",
     "output_type": "stream",
     "text": [
      "INFO:dedupe.training:Final predicate set:\n",
      "INFO:dedupe.training:(SimplePredicate: (sameSevenCharStartPredicate, Address), TfidfNGramCanopyPredicate: (0.4, Address))\n",
      "INFO:dedupe.training:(SimplePredicate: (commonTwoTokens, Site name), TfidfTextCanopyPredicate: (0.4, Phone))\n",
      "INFO:dedupe.training:(SimplePredicate: (wholeFieldPredicate, Zip), TfidfNGramCanopyPredicate: (0.8, Site name))\n",
      "Site name : centers for new horizons - ida b. wells learning center\n",
      "Address : 3601 s rhodes st\n",
      "Zip : None\n",
      "Phone : 3733640\n",
      "\n",
      "Site name : centers for new horizons ida b. wells\n",
      "Address : 3641 s rhodes avenue\n",
      "Zip : 60653\n",
      "Phone : 3733460\n",
      "\n",
      "30/10 positive, 10/10 negative\n",
      "Do these records refer to the same thing?\n",
      "(y)es / (n)o / (u)nsure / (f)inished / (p)revious\n"
     ]
    },
    {
     "name": "stdout",
     "output_type": "stream",
     "text": [
      "y\n"
     ]
    },
    {
     "name": "stderr",
     "output_type": "stream",
     "text": [
      "Site name : care-a-lot child development center\n",
      "Address : 5522 n milwaukee avenue\n",
      "Zip : 60630\n",
      "Phone : 7630888\n",
      "\n",
      "Site name : care-a-lot child development center\n",
      "Address : 6441 n central avenue\n",
      "Zip : 60646\n",
      "Phone : 7638888\n",
      "\n",
      "31/10 positive, 10/10 negative\n",
      "Do these records refer to the same thing?\n",
      "(y)es / (n)o / (u)nsure / (f)inished / (p)revious\n"
     ]
    },
    {
     "name": "stdout",
     "output_type": "stream",
     "text": [
      "f\n"
     ]
    },
    {
     "name": "stderr",
     "output_type": "stream",
     "text": [
      "Finished labeling\n",
      "INFO:dedupe.training:Final predicate set:\n",
      "INFO:dedupe.training:(SimplePredicate: (sameFiveCharStartPredicate, Address), TfidfNGramCanopyPredicate: (0.4, Address))\n",
      "INFO:dedupe.training:(SimplePredicate: (oneGramFingerprint, Phone), TfidfTextCanopyPredicate: (0.6, Site name))\n",
      "INFO:dedupe.training:(SimplePredicate: (wholeFieldPredicate, Zip), TfidfNGramCanopyPredicate: (0.8, Site name))\n"
     ]
    }
   ],
   "source": [
    "dedupe.consoleLabel(deduper)"
   ]
  },
  {
   "cell_type": "code",
   "execution_count": 17,
   "metadata": {},
   "outputs": [
    {
     "name": "stderr",
     "output_type": "stream",
     "text": [
      "INFO:rlr.crossvalidation:using cross validation to find optimum alpha...\n",
      "INFO:rlr.crossvalidation:optimum alpha: 0.100000, score 0.659673743625\n",
      "INFO:dedupe.training:Final predicate set:\n",
      "INFO:dedupe.training:(SimplePredicate: (sameFiveCharStartPredicate, Address), TfidfNGramCanopyPredicate: (0.4, Address))\n",
      "INFO:dedupe.training:(SimplePredicate: (oneGramFingerprint, Phone), TfidfTextCanopyPredicate: (0.6, Site name))\n",
      "INFO:dedupe.training:(LevenshteinCanopyPredicate: (1, Site name), SimplePredicate: (wholeFieldPredicate, Zip))\n"
     ]
    }
   ],
   "source": [
    " deduper.train()"
   ]
  },
  {
   "cell_type": "code",
   "execution_count": 18,
   "metadata": {},
   "outputs": [
    {
     "name": "stderr",
     "output_type": "stream",
     "text": [
      "INFO:dedupe.canopy_index:Removing stop word  s\n",
      "C:\\Users\\Ben\\Anaconda2\\lib\\site-packages\\dedupe\\backport.py:26: UserWarning: Dedupe does not currently support multiprocessing on Windows\n",
      "  warnings.warn(\"Dedupe does not currently support multiprocessing on Windows\")\n",
      "INFO:dedupe.api:Maximum expected recall and precision\n",
      "INFO:dedupe.api:recall: 0.977\n",
      "INFO:dedupe.api:precision: 0.970\n",
      "INFO:dedupe.api:With threshold: 0.487\n"
     ]
    }
   ],
   "source": [
    "threshold = deduper.threshold(data_dd, recall_weight=1)\n",
    "\n"
   ]
  },
  {
   "cell_type": "code",
   "execution_count": 25,
   "metadata": {
    "collapsed": true
   },
   "outputs": [],
   "source": [
    "output_file = '\\\\csv_example_output.csv'\n",
    "settings_file = '\\\\csv_example_learned_settings'\n",
    "training_file = '\\\\csv_example_training.json'"
   ]
  },
  {
   "cell_type": "code",
   "execution_count": 26,
   "metadata": {
    "collapsed": true
   },
   "outputs": [],
   "source": [
    "\n",
    "\n",
    "with open(path+training_file, 'w') as tf:\n",
    "    deduper.writeTraining(tf)\n",
    "\n",
    "#Save our weights and predicates to disk. If the settings file exists, we will skip all the training and learning next time we run this file.\n",
    "\n",
    "with open(path+settings_file, 'wb') as sf:\n",
    "    deduper.writeSettings(sf)\n",
    "\n"
   ]
  },
  {
   "cell_type": "code",
   "execution_count": 19,
   "metadata": {},
   "outputs": [
    {
     "name": "stdout",
     "output_type": "stream",
     "text": [
      "clustering...\n"
     ]
    },
    {
     "name": "stderr",
     "output_type": "stream",
     "text": [
      "INFO:dedupe.canopy_index:Removing stop word  s\n"
     ]
    }
   ],
   "source": [
    "print('clustering...')\n",
    "clustered_dupes = deduper.match(data_dd, threshold)"
   ]
  },
  {
   "cell_type": "code",
   "execution_count": 21,
   "metadata": {},
   "outputs": [
    {
     "data": {
      "text/plain": [
       "((0, 1, 215, 509, 510, 1225, 1226, 1879, 2758, 3255),\n",
       " array([ 0.99787538,  0.99787538,  0.99332574,  0.99787538,  0.99787538,\n",
       "         0.99787538,  0.99787538,  0.999742  ,  0.9942195 ,  0.99696296]))"
      ]
     },
     "execution_count": 21,
     "metadata": {},
     "output_type": "execute_result"
    }
   ],
   "source": [
    "clustered_dupes[0]"
   ]
  },
  {
   "cell_type": "code",
   "execution_count": 24,
   "metadata": {},
   "outputs": [
    {
     "data": {
      "text/plain": [
       "{'Address': '1 n. ogden',\n",
       " 'Agency': None,\n",
       " 'CC fund': None,\n",
       " 'Center Director': None,\n",
       " 'Column': None,\n",
       " 'Column2': None,\n",
       " 'Director': None,\n",
       " 'ECE Available Programs': None,\n",
       " 'Eearly Head Start Fund': None,\n",
       " 'Email Address': None,\n",
       " 'Executive Director': None,\n",
       " 'Fax': None,\n",
       " 'Funded Enrollment': None,\n",
       " 'Head Start Fund': None,\n",
       " 'IDHS Provider ID': None,\n",
       " 'Id': '215',\n",
       " 'Length of Day': '8-11 hours, varies by facility',\n",
       " 'NAEYC Program Id': None,\n",
       " 'NAEYC Valid Until': None,\n",
       " 'Neighborhood': None,\n",
       " 'Number per Site EHS': None,\n",
       " 'Number per Site HS': None,\n",
       " 'Ounce of Prevention Description': None,\n",
       " 'Phone': '2262649',\n",
       " 'Progmod': None,\n",
       " 'Program Name': 'community partnerships',\n",
       " 'Program Option': None,\n",
       " 'Purple binder service type': None,\n",
       " 'Site name': 'salvation army temple',\n",
       " 'Source': 'cps_early_childhood_portal_scrape.csv',\n",
       " 'Website': None,\n",
       " 'Zip': None}"
      ]
     },
     "execution_count": 24,
     "metadata": {},
     "output_type": "execute_result"
    }
   ],
   "source": [
    "data_dd[215]"
   ]
  },
  {
   "cell_type": "code",
   "execution_count": null,
   "metadata": {
    "collapsed": true
   },
   "outputs": [],
   "source": []
  }
 ],
 "metadata": {
  "kernelspec": {
   "display_name": "Python [conda root]",
   "language": "python",
   "name": "conda-root-py"
  },
  "language_info": {
   "codemirror_mode": {
    "name": "ipython",
    "version": 2
   },
   "file_extension": ".py",
   "mimetype": "text/x-python",
   "name": "python",
   "nbconvert_exporter": "python",
   "pygments_lexer": "ipython2",
   "version": "2.7.14"
  }
 },
 "nbformat": 4,
 "nbformat_minor": 2
}
