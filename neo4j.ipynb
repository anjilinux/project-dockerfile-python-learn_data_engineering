{
 "cells": [
  {
   "cell_type": "markdown",
   "metadata": {},
   "source": [
    "# neo4j\n",
    " - https://neo4j.com/graphacademy/online-training/data-science/part-2/\n",
    " - https://colab.research.google.com/github/neo4j-contrib/training-v2/blob/master/Courses/DataScience/notebooks/02_EDA.ipynb\n",
    " - https://neo4j.com/developer/python/\n",
    " - http://networkrepository.com/citeseer.php\n",
    " - https://neo4j.com/docs/driver-manual/1.7/get-started/\n",
    " - https://pythontic.com/database/neo4j/create%20nodes%20and%20relationships\n",
    " - https://neo4j.com/docs/driver-manual/1.7/client-applications/\n"
   ]
  },
  {
   "cell_type": "code",
   "execution_count": null,
   "metadata": {},
   "outputs": [],
   "source": [
    "import os\n",
    "import pandas as pd\n",
    "import networkx as nx"
   ]
  },
  {
   "cell_type": "code",
   "execution_count": null,
   "metadata": {},
   "outputs": [],
   "source": [
    "from neo4j import GraphDatabase"
   ]
  },
  {
   "cell_type": "code",
   "execution_count": null,
   "metadata": {},
   "outputs": [],
   "source": [
    "# Database Credentials\n",
    "uri             = \"bolt://localhost:7687\"\n",
    "userName        = \"neo4j\"\n",
    "password        = \"neo4j\"\n",
    " \n",
    "# Connect to the neo4j database server\n",
    "graphDB_Driver  = GraphDatabase.driver(uri, auth=(userName, password)) "
   ]
  }
 ],
 "metadata": {
  "kernelspec": {
   "display_name": "Python 3.9.7 64-bit (conda)",
   "metadata": {
    "interpreter": {
     "hash": "3430592c81e614f3eade9b786217ce459fc9e80474b1d5165e0a306b9cf201f8"
    }
   },
   "name": "python3"
  },
  "language_info": {
   "codemirror_mode": {
    "name": "ipython",
    "version": 3
   },
   "file_extension": ".py",
   "mimetype": "text/x-python",
   "name": "python",
   "nbconvert_exporter": "python",
   "pygments_lexer": "ipython3",
   "version": "3.9.7-final"
  }
 },
 "nbformat": 4,
 "nbformat_minor": 4
}