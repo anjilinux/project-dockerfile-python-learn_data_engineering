{
 "cells": [
  {
   "cell_type": "markdown",
   "metadata": {},
   "source": [
    "# How to multi-task in python"
   ]
  },
  {
   "cell_type": "code",
   "execution_count": 1,
   "metadata": {},
   "outputs": [],
   "source": [
    "import numpy as np\n",
    "import threading\n",
    "import time"
   ]
  },
  {
   "cell_type": "markdown",
   "metadata": {},
   "source": [
    "## 1. Waiting for tasks to complete\n",
    "\n",
    "Here the python `threading` module is used to enable more explicit control of thread processes. This approach can be useful when waiting on the result of a slow or external process such as an API call or database query. A `slow_calculation` function updating a global variable `result` and `thread.join()` is used to ensure that the slow function completes before progressing. "
   ]
  },
  {
   "cell_type": "code",
   "execution_count": 2,
   "metadata": {},
   "outputs": [
    {
     "name": "stdout",
     "output_type": "stream",
     "text": [
      "Waiting 2....\n",
      "The result is 4\n"
     ]
    }
   ],
   "source": [
    "result = None\n",
    "\n",
    "def slow_calculation():\n",
    "    \n",
    "    # here goes some long calculation\n",
    "    rand = np.random.randint(low=2,high=8)\n",
    "    print(f'Waiting {rand}....')\n",
    "    time.sleep(rand)\n",
    "   \n",
    "    # when the calculation is done, the result is stored in a global variable\n",
    "    global result\n",
    "    result = rand**2\n",
    "\n",
    "def main():\n",
    "    thread = threading.Thread(target=slow_calculation())\n",
    "    thread.start()\n",
    " \n",
    "    # dont do this\n",
    "    # while result is None:\n",
    "    #     pass\n",
    "    \n",
    "    # Do this, wait here for the result to be available before continuing\n",
    "    thread.join()\n",
    "   \n",
    "    print('The result is', result)\n",
    "    \n",
    "main()"
   ]
  },
  {
   "cell_type": "markdown",
   "metadata": {},
   "source": [
    "Below is a similar, but this time instead of waiting for the whole slow function to complete we use an event `result_available = threading.Event()` to trigger the continuation of the thread. "
   ]
  },
  {
   "cell_type": "code",
   "execution_count": 3,
   "metadata": {},
   "outputs": [
    {
     "name": "stdout",
     "output_type": "stream",
     "text": [
      "Waiting 6....\n",
      "thread finished\n",
      "The result is 36\n"
     ]
    }
   ],
   "source": [
    "result = None\n",
    "result_available = threading.Event()\n",
    "\n",
    "def slow_calculation():\n",
    "    \n",
    "    # here goes some long calculation\n",
    "    rand = np.random.randint(low=2,high=8)\n",
    "    print(f'Waiting {rand}....')\n",
    "    time.sleep(rand)\n",
    "   \n",
    "    # when the calculation is done, the result is stored in a global variable\n",
    "    global result\n",
    "    result = rand**2\n",
    "    result_available.set()\n",
    "    \n",
    "    # do some more work before exiting the thread\n",
    "    time.sleep(2)\n",
    "    print('thread finished')\n",
    "\n",
    "def main():\n",
    "    thread = threading.Thread(target=slow_calculation())\n",
    "    thread.start()\n",
    " \n",
    "    # wait here for the result to be available before continuing\n",
    "    result_available.wait()\n",
    "   \n",
    "    print('The result is', result)\n",
    "    \n",
    "main()"
   ]
  },
  {
   "cell_type": "markdown",
   "metadata": {},
   "source": [
    "## 2. Asynchronous processing\n",
    "\n",
    "*That first part is the most critical thing to understand - Python code can now basically run in one of two \"worlds\", either synchronous or asynchronous. You should think of them as relatively separate, having different libraries and calling styles but sharing variables and syntax.*\n",
    "\n",
    "*In the synchronous world, the Python that's been around for decades, you call functions directly and everything gets processed as it's written on screen. Your only built-in option for running code in parallel in the same process is threads.*\n",
    "\n",
    "*In the asynchronous world, things change around a bit. Everything runs on a central event loop, which is a bit of core code that lets you run several coroutines at once. Coroutines run synchronously until they hit an await and then they pause, give up control to the event loop, and something else can happen.*\n",
    "\n",
    "- https://www.aeracode.org/2018/02/19/python-async-simplified/\n",
    "- https://stackoverflow.com/questions/39952799/python-3-5-async-await-with-real-code-example"
   ]
  },
  {
   "cell_type": "code",
   "execution_count": 4,
   "metadata": {},
   "outputs": [],
   "source": [
    "import asyncio"
   ]
  },
  {
   "cell_type": "code",
   "execution_count": 13,
   "metadata": {},
   "outputs": [
    {
     "name": "stdout",
     "output_type": "stream",
     "text": [
      "Hello-Ben\n"
     ]
    }
   ],
   "source": [
    "async def say_hello(name):\n",
    "    await asyncio.sleep(3)\n",
    "    print(\"Hello-%s\" % name)\n",
    "\n",
    "async def main():\n",
    "    result = await say_hello(\"Ben\")\n",
    "\n",
    "await main()"
   ]
  },
  {
   "cell_type": "code",
   "execution_count": 10,
   "metadata": {},
   "outputs": [],
   "source": [
    "async def slow_calculation(max=5):\n",
    "    rand = np.random.randint(low=2,high=max)\n",
    "    print(f'Waiting {rand}....')a\n",
    "    await asyncio.sleep(rand)"
   ]
  },
  {
   "cell_type": "code",
   "execution_count": 11,
   "metadata": {},
   "outputs": [
    {
     "name": "stdout",
     "output_type": "stream",
     "text": [
      "Waiting 2....\n"
     ]
    }
   ],
   "source": [
    "await slow_calculation()"
   ]
  },
  {
   "cell_type": "code",
   "execution_count": 9,
   "metadata": {},
   "outputs": [
    {
     "name": "stdout",
     "output_type": "stream",
     "text": [
      "chat-django\n"
     ]
    }
   ],
   "source": []
  },
  {
   "cell_type": "code",
   "execution_count": 6,
   "metadata": {},
   "outputs": [],
   "source": [
    "# slow_calculation()"
   ]
  },
  {
   "cell_type": "code",
   "execution_count": 9,
   "metadata": {},
   "outputs": [],
   "source": [
    "async def main():\n",
    "     await asyncio.wait([\n",
    "                         slow_calculation(i) for i in np.arange(3,7)\n",
    "                        ])"
   ]
  },
  {
   "cell_type": "code",
   "execution_count": null,
   "metadata": {},
   "outputs": [],
   "source": []
  }
 ],
 "metadata": {
  "kernelspec": {
   "display_name": "Python 3 (ipykernel)",
   "language": "python",
   "name": "python3"
  },
  "language_info": {
   "codemirror_mode": {
    "name": "ipython",
    "version": 3
   },
   "file_extension": ".py",
   "mimetype": "text/x-python",
   "name": "python",
   "nbconvert_exporter": "python",
   "pygments_lexer": "ipython3",
   "version": "3.8.5"
  }
 },
 "nbformat": 4,
 "nbformat_minor": 4
}
