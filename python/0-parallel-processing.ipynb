{
 "cells": [
  {
   "cell_type": "markdown",
   "metadata": {},
   "source": [
    "# How to multi-task in python"
   ]
  },
  {
   "cell_type": "code",
   "execution_count": 1,
   "metadata": {},
   "outputs": [],
   "source": [
    "import os\n",
    "import numpy as np\n",
    "import time"
   ]
  },
  {
   "cell_type": "markdown",
   "metadata": {},
   "source": [
    "## 1. Waiting for tasks to complete\n",
    "\n",
    "Here the python `threading` module is used to enable more explicit control of thread processes. This approach can be useful when waiting on the result of a slow or external process such as an API call or database query. A `slow_calculation` function updating a global variable `result` and `thread.join()` is used to ensure that the slow function completes before progressing. "
   ]
  },
  {
   "cell_type": "code",
   "execution_count": 2,
   "metadata": {},
   "outputs": [],
   "source": [
    "import threading"
   ]
  },
  {
   "cell_type": "code",
   "execution_count": 3,
   "metadata": {},
   "outputs": [
    {
     "name": "stdout",
     "output_type": "stream",
     "text": [
      "Waiting 3....\n",
      "The result is 9\n"
     ]
    }
   ],
   "source": [
    "result = None\n",
    "\n",
    "def slow_calculation():\n",
    "    \n",
    "    # here goes some long calculation\n",
    "    rand = np.random.randint(low=2,high=8)\n",
    "    print(f'Waiting {rand}....')\n",
    "    time.sleep(rand)\n",
    "   \n",
    "    # when the calculation is done, the result is stored in a global variable\n",
    "    global result\n",
    "    result = rand**2\n",
    "\n",
    "def main():\n",
    "    thread = threading.Thread(target=slow_calculation())\n",
    "    thread.start()\n",
    " \n",
    "    # dont do this\n",
    "    # while result is None:\n",
    "    #     pass\n",
    "    \n",
    "    # Do this, wait here for the result to be available before continuing\n",
    "    thread.join()\n",
    "   \n",
    "    print('The result is', result)\n",
    "    \n",
    "main()"
   ]
  },
  {
   "cell_type": "markdown",
   "metadata": {},
   "source": [
    "Below is a similar, but this time instead of waiting for the whole slow function to complete we use an event `result_available = threading.Event()` to trigger the continuation of the thread. "
   ]
  },
  {
   "cell_type": "code",
   "execution_count": 4,
   "metadata": {},
   "outputs": [
    {
     "name": "stdout",
     "output_type": "stream",
     "text": [
      "Waiting 4....\n",
      "thread finished\n",
      "The result is 16\n"
     ]
    }
   ],
   "source": [
    "result = None\n",
    "result_available = threading.Event()\n",
    "\n",
    "def slow_calculation():\n",
    "    \n",
    "    # here goes some long calculation\n",
    "    rand = np.random.randint(low=2,high=8)\n",
    "    print(f'Waiting {rand}....')\n",
    "    time.sleep(rand)\n",
    "   \n",
    "    # when the calculation is done, the result is stored in a global variable\n",
    "    global result\n",
    "    result = rand**2\n",
    "    result_available.set()\n",
    "    \n",
    "    # do some more work before exiting the thread\n",
    "    time.sleep(2)\n",
    "    print('thread finished')\n",
    "\n",
    "def main():\n",
    "    thread = threading.Thread(target=slow_calculation())\n",
    "    thread.start()\n",
    " \n",
    "    # wait here for the result to be available before continuing\n",
    "    result_available.wait()\n",
    "   \n",
    "    print('The result is', result)\n",
    "    \n",
    "main()"
   ]
  },
  {
   "cell_type": "markdown",
   "metadata": {},
   "source": [
    "## 2. Asynchronous processing\n",
    "\n",
    "The key concept here - Python code can run in one of two \"worlds\", synchronous and asynchronous. The synchronous world is our typical day to day python. Whereas the asynchronous world is in effect a whole different space, with different libraries and routines.\n",
    "\n",
    "But in essence, in synchronous tasks and jobs are run one after the other. In asynchronous, they run concurrently saving time.\n",
    "\n",
    "<img src=\"parallel-processing.png\" width=\"600\" height=\"400\">\n",
    "\n",
    "This [article](https://www.aeracode.org/2018/02/19/python-async-simplified/) has an excellent breakdown of the Asyncrhonous operations in Python. Some of the key excerpts for here:\n",
    "\n",
    "*In the synchronous world, the Python that's been around for decades, you call functions directly and everything gets processed as it's written on screen. Your only built-in option for running code in parallel in the same process is threads.*\n",
    "\n",
    "*In the asynchronous world, things change around a bit. Everything runs on a central event loop, which is a bit of core code that lets you run several coroutines at once. Coroutines run synchronously until they hit an await and then they pause, give up control to the event loop, and something else can happen.*\n",
    "\n",
    "For multi-tasking that means there are a few different patterns we can follow: \n",
    "\n",
    "1. Sync-code: This is just regular function calls that will run sequentially.\n",
    "2. Async-code: Use async functions patterns to run concurrent tasks. \n",
    "3. Sync-code with async execution: We don't want to be limited to just using async specific functions. In some cases it is possible to run sync functions, asynchronoulsy i.e. multi-task."
   ]
  },
  {
   "cell_type": "code",
   "execution_count": 5,
   "metadata": {},
   "outputs": [],
   "source": [
    "import asyncio"
   ]
  },
  {
   "cell_type": "markdown",
   "metadata": {},
   "source": [
    "### Async to Async \n",
    "\n",
    "Async functions can be used directly, these functions are compatible with `await/async` functionality. \n",
    "\n",
    "Here is a single async task \"coroutine\". Note that instead of using the standard `time.sleep()` it uses the async compatible `asyncio.sleep()` function.\n",
    "\n",
    "> **NOTE Jupyter Notebooks**: \n",
    "> \n",
    "> If using IPython you must invoke `async main()` functions with `await main()`. If you're using python use `asyncio.run(main())`. \n",
    ">   ```\n",
    "> # example.py\n",
    ">   import asyncio\n",
    ">   import time\n",
    "> \n",
    ">   ## multiple task\n",
    ">   async def say_hello(name):\n",
    ">       await asyncio.sleep(3)\n",
    ">       print(\"Hello-%s\" % name)\n",
    ">\n",
    ">    async def main():\n",
    ">        await say_hello(\"Ben\")\n",
    ">        await say_hello(\"Jenny\")\n",
    ">\n",
    ">    start_time = time.time()\n",
    ">    asyncio.run(main())\n",
    ">    print(f\"--- {time.time() - start_time:.5f} seconds ---\\n\\r\")\n",
    ">    ```"
   ]
  },
  {
   "cell_type": "code",
   "execution_count": 6,
   "metadata": {},
   "outputs": [
    {
     "name": "stdout",
     "output_type": "stream",
     "text": [
      "Hello-Ben\n",
      "--- 3.00425 seconds ---\n",
      "\n"
     ]
    }
   ],
   "source": [
    "# single task\n",
    "async def say_hello(name):\n",
    "    await asyncio.sleep(3)\n",
    "    print(\"Hello-%s\" % name)\n",
    "\n",
    "async def main():\n",
    "    await say_hello(\"Ben\")\n",
    "\n",
    "start_time = time.time()\n",
    "await main()\n",
    "print(f\"--- {time.time() - start_time:.5f} seconds ---\\n\\r\")"
   ]
  },
  {
   "cell_type": "markdown",
   "metadata": {},
   "source": [
    "OK, now let's add another task."
   ]
  },
  {
   "cell_type": "code",
   "execution_count": 7,
   "metadata": {},
   "outputs": [
    {
     "name": "stdout",
     "output_type": "stream",
     "text": [
      "Hello-Ben\n",
      "Hello-Jenny\n",
      "--- 6.00553 seconds ---\n",
      "\n"
     ]
    }
   ],
   "source": [
    "## multiple task\n",
    "async def say_hello(name):\n",
    "    await asyncio.sleep(3)\n",
    "    print(\"Hello-%s\" % name)\n",
    "\n",
    "async def main():\n",
    "    await say_hello(\"Ben\")\n",
    "    await say_hello(\"Jenny\")\n",
    "\n",
    "start_time = time.time()\n",
    "await main()\n",
    "print(f\"--- {time.time() - start_time:.5f} seconds ---\\n\\r\")"
   ]
  },
  {
   "cell_type": "markdown",
   "metadata": {},
   "source": [
    "But hang on, that took 6 seconds. The tasks are still being executed in sync. \n",
    "\n",
    "This is expected as, although we are using asynchronous functions, we are still \"awaiting\" on them to complete sequentially \"in sync\". \n",
    "\n",
    "The [asyncio concurrency documentation](https://docs.python.org/3/library/asyncio-task.html) explains the primary two ways to execute concurrent tasks.\n",
    "\n",
    "First, we can explicitly build await coroutines."
   ]
  },
  {
   "cell_type": "code",
   "execution_count": 8,
   "metadata": {},
   "outputs": [
    {
     "name": "stdout",
     "output_type": "stream",
     "text": [
      "Hello-Ben\n",
      "Hello-Jenny\n",
      "--- 3.00403 seconds ---\n",
      "\n"
     ]
    }
   ],
   "source": [
    "## multiple task\n",
    "async def say_hello(name):\n",
    "    await asyncio.sleep(3)\n",
    "    print(\"Hello-%s\" % name)\n",
    "\n",
    "async def main():\n",
    "    first_task = asyncio.create_task(say_hello(\"Ben\"))\n",
    "    second_task = asyncio.create_task(say_hello(\"Jenny\"))\n",
    "    await first_task\n",
    "    await second_task\n",
    "\n",
    "start_time = time.time()\n",
    "await main()\n",
    "print(f\"--- {time.time() - start_time:.5f} seconds ---\\n\\r\")"
   ]
  },
  {
   "cell_type": "markdown",
   "metadata": {},
   "source": [
    "Neat, now our two 3 second operations are completed in 3 seconds not 6.\n",
    "\n",
    "The second way  to declare async/await coroutines is using [waiting primitives](https://docs.python.org/3/library/asyncio-task.html#waiting-primitives). \n",
    "\n",
    "Below is another simple waiting function, but also with an Input/Output pattern and using `asyncio.wait()` to create each task dynamically. See how the total time taken to execute the tasks is equal to the highest time the function waits for. \n",
    "\n",
    "Note also that there is a timeout argument - and this might be handy if making API or web scraping calls for instance. Try changing it to a value less that 9. "
   ]
  },
  {
   "cell_type": "code",
   "execution_count": 9,
   "metadata": {},
   "outputs": [
    {
     "name": "stdout",
     "output_type": "stream",
     "text": [
      "Waiting 9....\n",
      "Waiting 2....\n",
      "Waiting 4....\n",
      "Waiting 8....\n",
      "Waiting 3....\n",
      "Waiting 7....\n",
      "Waiting 5....\n",
      "Waiting 1....\n",
      "Waiting 6....\n",
      "--- 9.00256 seconds ---\n",
      "\n",
      "List items:\t[1, 2, 3, 4, 5, 6, 7, 8, 9]\n"
     ]
    }
   ],
   "source": [
    "list_items = list()\n",
    "\n",
    "async def slow_calculation(wait=5):\n",
    "    global list_items\n",
    "    print(f'Waiting {wait}....')\n",
    "    await asyncio.sleep(wait)\n",
    "    list_items.append(wait)\n",
    "\n",
    "async def main():\n",
    "     await asyncio.wait([\n",
    "                         slow_calculation(i) for i in np.arange(1,10)\n",
    "                        ],timeout=10)\n",
    "\n",
    "start_time = time.time()\n",
    "await main()\n",
    "print(f\"--- {time.time() - start_time:.5f} seconds ---\\n\\r\")\n",
    "\n",
    "print(f\"List items:\\t{list_items}\")"
   ]
  },
  {
   "cell_type": "markdown",
   "metadata": {},
   "source": [
    "### Sync to Async\n",
    "\n",
    "Here's another sync function - it takes some time to run each task."
   ]
  },
  {
   "cell_type": "code",
   "execution_count": 10,
   "metadata": {},
   "outputs": [
    {
     "name": "stdout",
     "output_type": "stream",
     "text": [
      "Waiting 1....\n",
      "Waiting 2....\n",
      "Waiting 3....\n",
      "Waiting 4....\n",
      "--- 10.00870 seconds ---\n",
      "\n",
      "List items:\t[1, 2, 3, 4]\n"
     ]
    }
   ],
   "source": [
    "list_items = list()\n",
    "\n",
    "def slow_calculation(wait=5):\n",
    "    global list_items\n",
    "    print(f'Waiting {wait}....')\n",
    "    time.sleep(wait)\n",
    "    list_items.append(wait)\n",
    "\n",
    "def main():\n",
    "    [slow_calculation(i) for i in np.arange(1,5)]\n",
    "\n",
    "start_time = time.time()\n",
    "main()\n",
    "print(f\"--- {time.time() - start_time:.5f} seconds ---\\n\\r\")\n",
    "\n",
    "print(f\"List items:\\t{list_items}\")"
   ]
  },
  {
   "cell_type": "markdown",
   "metadata": {},
   "source": [
    "And here, we use a combination of `ThreadPool` execution and `async` to run each task concurrently using threads. \n",
    "\n",
    "The `workers` specifies the number of threads to use - try setting this to 1. \n",
    "\n",
    "Alternatively, set the executor argument to `None` in `loop.run_in_executor(None,...` to default to the number of processors on the machine, multiplied by 5 [(documentation)](https://docs.python.org/3/library/concurrent.futures.html#concurrent.futures.ThreadPoolExecutor)."
   ]
  },
  {
   "cell_type": "code",
   "execution_count": 11,
   "metadata": {},
   "outputs": [],
   "source": [
    "from concurrent.futures import ThreadPoolExecutor"
   ]
  },
  {
   "cell_type": "code",
   "execution_count": 12,
   "metadata": {},
   "outputs": [
    {
     "name": "stdout",
     "output_type": "stream",
     "text": [
      "Waiting 1....\n",
      "Waiting 2....\n",
      "Waiting 3....\n",
      "Waiting 4....\n",
      "--- 4.00656 seconds ---\n",
      "\n",
      "List items:\t[1, 2, 3, 4]\n"
     ]
    }
   ],
   "source": [
    "workers = 10\n",
    "list_items = list()\n",
    "\n",
    "def slow_calculation(wait=5):\n",
    "    global list_items\n",
    "    print(f'Waiting {wait}....')\n",
    "    time.sleep(wait)\n",
    "    list_items.append(wait)\n",
    "\n",
    "async def main():\n",
    "    executor = ThreadPoolExecutor(max_workers=workers)\n",
    "    loop = asyncio.get_event_loop()\n",
    "    futures =  [loop.run_in_executor(executor, slow_calculation, i) for i in np.arange(1,5)]\n",
    "    # futures =  [loop.run_in_executor(None, slow_calculation, i) for i in np.arange(1,5)]\n",
    "    await asyncio.gather(*futures)\n",
    "\n",
    "start_time = time.time()\n",
    "await main()\n",
    "print(f\"--- {time.time() - start_time:.5f} seconds ---\\n\\r\")\n",
    "print(f\"List items:\\t{list_items}\")"
   ]
  },
  {
   "cell_type": "markdown",
   "metadata": {},
   "source": [
    "## Other methods\n",
    "\n",
    "Aside from `asyncio`, there are other ways to access threads and to do concurrent multiprocessing in python.\n",
    "\n",
    "### multiprocessing\n",
    "The [multiprocessing](https://docs.python.org/3/library/multiprocessing.html) package."
   ]
  },
  {
   "cell_type": "code",
   "execution_count": 13,
   "metadata": {},
   "outputs": [],
   "source": [
    "from multiprocessing import Pool"
   ]
  },
  {
   "cell_type": "code",
   "execution_count": 14,
   "metadata": {},
   "outputs": [
    {
     "name": "stdout",
     "output_type": "stream",
     "text": [
      "Waiting 1....Waiting 4....\n",
      "\n",
      "Waiting 3....\n",
      "Waiting 2....\n",
      "--- 4.16348 seconds ---\n",
      "\n",
      "List items:\t[1, 2, 3, 4]\n"
     ]
    }
   ],
   "source": [
    "list_items=list()\n",
    "\n",
    "def slow_calculation(wait=5):\n",
    "    global list_items\n",
    "    print(f'Waiting {wait}....')\n",
    "    time.sleep(wait)\n",
    "    return wait\n",
    "\n",
    "start_time = time.time()\n",
    "\n",
    "result_objs = []\n",
    "with Pool(processes=os.cpu_count() - 1) as pool:\n",
    "    for i in np.arange(1,5):\n",
    "        result = pool.apply_async(slow_calculation, (i,))\n",
    "        result_objs.append(result)\n",
    "    list_items = [result.get() for result in result_objs]\n",
    "\n",
    "print(f\"--- {time.time() - start_time:.5f} seconds ---\\n\\r\")\n",
    "print(f\"List items:\\t{list_items}\")"
   ]
  },
  {
   "cell_type": "markdown",
   "metadata": {},
   "source": [
    "## pyrallel\n",
    "\n",
    "[PyRallel](https://pyrallel.readthedocs.io/en/latest/parallel_processor.html) is another ParallelProcessor that uses  CPU cores to process compute-intensive tasks.\n",
    "\n",
    "There is relatively little/no documentation on PyRallel beyond the [official documentation](https://pyrallel.readthedocs.io/en/latest/parallel_processor.html). There is also an unrelated and deprecated predecessor to Dask with the [same name](https://github.com/pydata/pyrallel) - so expect little help. But it also has as a `MapReduce` and `Queue` function that looks interesting and that i'll check out at some point.\n",
    "\n",
    " To install:\n",
    "\n",
    "``` \n",
    "# conda \n",
    "# from the auto channel https://anaconda.org/auto/pyrallel\n",
    "conda install -c auto pyrallel\n",
    "\n",
    "# pip \n",
    "# https://pyrallel.readthedocs.io/en/latest/installation.html\n",
    "pip install pyrallel.lib\n",
    "```"
   ]
  },
  {
   "cell_type": "code",
   "execution_count": 15,
   "metadata": {},
   "outputs": [],
   "source": [
    "from pyrallel import ParallelProcessor"
   ]
  },
  {
   "cell_type": "code",
   "execution_count": 16,
   "metadata": {},
   "outputs": [
    {
     "name": "stdout",
     "output_type": "stream",
     "text": [
      "Waiting 1....\n",
      "Waiting 4....\n",
      "Waiting 2....\n",
      "Waiting 3....\n",
      "--- 5.20214 seconds ---\n",
      "\n",
      "List items:\t[1, 2, 3, 4]\n"
     ]
    }
   ],
   "source": [
    "list_items=list()\n",
    "\n",
    "def slow_calculation(wait=5):\n",
    "    print(f'Waiting {wait}....')\n",
    "    time.sleep(wait)\n",
    "    return wait\n",
    "\n",
    "def collector(data):\n",
    "    global list_items\n",
    "    list_items.append(data)\n",
    "\n",
    "start_time = time.time()\n",
    "\n",
    "pp = ParallelProcessor(num_of_processor=4,mapper=slow_calculation,collector=collector)\n",
    "pp.start()\n",
    "pp.map([i for i in np.arange(1,5)])\n",
    "pp.task_done()\n",
    "pp.join()\n",
    "\n",
    "print(f\"--- {time.time() - start_time:.5f} seconds ---\\n\\r\")\n",
    "print(f\"List items:\\t{list_items}\")"
   ]
  },
  {
   "cell_type": "markdown",
   "metadata": {},
   "source": [
    "## References\n",
    "\n",
    "- https://www.aeracode.org/2018/02/19/python-async-simplified/\n",
    "- https://e2eml.school/multiprocessing.html\n",
    "- https://pyrallel.readthedocs.io/en/latest/parallel_processor.html"
   ]
  }
 ],
 "metadata": {
  "kernelspec": {
   "display_name": "Python 3",
   "language": "python",
   "name": "python3"
  },
  "language_info": {
   "codemirror_mode": {
    "name": "ipython",
    "version": 3
   },
   "file_extension": ".py",
   "mimetype": "text/x-python",
   "name": "python",
   "nbconvert_exporter": "python",
   "pygments_lexer": "ipython3",
   "version": "3.8.5"
  }
 },
 "nbformat": 4,
 "nbformat_minor": 4
}
