{
 "cells": [
  {
   "cell_type": "markdown",
   "metadata": {},
   "source": [
    "# Geospatial Analysis: Working with MODIS Raster data\n",
    "\n",
    "- [The Terra and Aqua combined MCD64A1](https://lpdaac.usgs.gov/products/mcd64a1v061/)  Version 6.1 Burned Area data product is a monthly, global gridded 500 meter (m) product containing per-pixel burned-area and quality information"
   ]
  },
  {
   "cell_type": "code",
   "execution_count": 3,
   "metadata": {},
   "outputs": [
    {
     "data": {
      "text/plain": [
       "True"
      ]
     },
     "execution_count": 3,
     "metadata": {},
     "output_type": "execute_result"
    }
   ],
   "source": [
    "import os\n",
    "import re\n",
    "import numpy as np\n",
    "import numpy.ma as ma\n",
    "import rasterio as rio\n",
    "from rasterio.plot import plotting_extent\n",
    "import earthpy as et\n",
    "import earthpy.plot as ep\n",
    "import geopandas\n",
    "import matplotlib.pyplot as plt\n",
    "import requests\n",
    "import dotenv\n",
    "dotenv.load_dotenv(dotenv.find_dotenv())"
   ]
  },
  {
   "cell_type": "markdown",
   "metadata": {},
   "source": [
    "***list contents of Modis ftp site***\n",
    "\n",
    "it is no longer a \"proper\" ftp site so use bs4 to parse."
   ]
  },
  {
   "cell_type": "code",
   "execution_count": 24,
   "metadata": {},
   "outputs": [],
   "source": [
    "from bs4 import BeautifulSoup"
   ]
  },
  {
   "cell_type": "code",
   "execution_count": 41,
   "metadata": {},
   "outputs": [],
   "source": [
    "host = fr'https://e4ftl01.cr.usgs.gov/MOTA/MCD64A1.061'\n",
    "login = os.getenv('user')\n",
    "password = os.getenv('pwd')"
   ]
  },
  {
   "cell_type": "code",
   "execution_count": 40,
   "metadata": {},
   "outputs": [],
   "source": [
    "# list folders \n",
    "r = requests.get(host, verify=True, stream=True,auth=(login,password))\n",
    "soup = BeautifulSoup(r.text, \"html.parser\")\n",
    "folders = list()\n",
    "for link in soup.findAll('a', attrs={'href': re.compile(\"\\d{4}.\\d{2}.\\d{2}/\")}):\n",
    "    folders.append(link.get('href'))"
   ]
  },
  {
   "cell_type": "code",
   "execution_count": 46,
   "metadata": {},
   "outputs": [],
   "source": [
    "# list files in folder\n",
    "for f in folders[:1]:\n",
    "    file_list = list()\n",
    "    folder_url = f\"{host}/{f}\"\n",
    "    r = requests.get(folder_url, verify=True, stream=True,auth=(login,password))\n",
    "    soup = BeautifulSoup(r.text, \"html.parser\")\n",
    "    for link in soup.findAll('a', attrs={'href': re.compile(\".hdf$\")}):\n",
    "        file_list.append(link.get('href'))    "
   ]
  },
  {
   "cell_type": "code",
   "execution_count": 57,
   "metadata": {},
   "outputs": [],
   "source": [
    "# download file from folder\n",
    "# implement 25 file timeout to avoid ratelimit\n",
    "exceptions = list()\n",
    "for f in folders[:1]:\n",
    "    for fl in exceptions:\n",
    "        try:\n",
    "            file_url = f\"{host}/{f}/{fl}\"\n",
    "            r = requests.get(file_url, verify=True, stream=True,auth=(login,password))\n",
    "            open(f'./data/{fl}',\"wb\").write(r.content)\n",
    "        except Exception as error:\n",
    "            print(error)\n",
    "            exceptions.append(fl)\n",
    "            import time\n",
    "            time.sleep(3)"
   ]
  },
  {
   "cell_type": "code",
   "execution_count": 96,
   "metadata": {},
   "outputs": [
    {
     "name": "stdout",
     "output_type": "stream",
     "text": [
      "MCD64A1.A2000306.h08v03.061.2021085164213.hdf\n",
      "MCD64A1.A2000306.h08v03.061.2021085164213.hdf\n",
      "MCD64A1.A2000306.h08v04.061.2021085165152.hdf\n",
      "MCD64A1.A2000306.h08v04.061.2021085165152.hdf\n",
      "MCD64A1.A2000306.h08v05.061.2021085163226.hdf\n",
      "MCD64A1.A2000306.h08v05.061.2021085163226.hdf\n",
      "MCD64A1.A2000306.h08v06.061.2021085162824.hdf\n",
      "MCD64A1.A2000306.h08v06.061.2021085162824.hdf\n",
      "MCD64A1.A2000306.h08v07.061.2021085171018.hdf\n",
      "MCD64A1.A2000306.h08v07.061.2021085171018.hdf\n",
      "MCD64A1.A2000306.h08v08.061.2021085164941.hdf\n",
      "MCD64A1.A2000306.h08v09.061.2021085163351.hdf\n",
      "MCD64A1.A2000306.h08v11.061.2021085165322.hdf\n",
      "MCD64A1.A2000306.h09v02.061.2021085164150.hdf\n",
      "MCD64A1.A2000306.h09v02.061.2021085164150.hdf\n",
      "MCD64A1.A2000306.h09v03.061.2021085164808.hdf\n",
      "MCD64A1.A2000306.h09v03.061.2021085164808.hdf\n",
      "MCD64A1.A2000306.h09v04.061.2021085171316.hdf\n",
      "MCD64A1.A2000306.h09v04.061.2021085171316.hdf\n",
      "MCD64A1.A2000306.h09v05.061.2021085164302.hdf\n",
      "MCD64A1.A2000306.h09v05.061.2021085164302.hdf\n",
      "MCD64A1.A2000306.h09v06.061.2021085164358.hdf\n",
      "MCD64A1.A2000306.h09v06.061.2021085164358.hdf\n",
      "MCD64A1.A2000306.h09v07.061.2021085165513.hdf\n",
      "MCD64A1.A2000306.h09v07.061.2021085165513.hdf\n",
      "MCD64A1.A2000306.h09v08.061.2021085164412.hdf\n",
      "MCD64A1.A2000306.h09v09.061.2021085165739.hdf\n",
      "MCD64A1.A2000306.h10v02.061.2021085164146.hdf\n",
      "MCD64A1.A2000306.h10v02.061.2021085164146.hdf\n",
      "MCD64A1.A2000306.h10v03.061.2021085171055.hdf\n",
      "MCD64A1.A2000306.h10v03.061.2021085171055.hdf\n",
      "MCD64A1.A2000306.h10v04.061.2021085165446.hdf\n",
      "MCD64A1.A2000306.h10v04.061.2021085165446.hdf\n",
      "MCD64A1.A2000306.h10v05.061.2021085164709.hdf\n",
      "MCD64A1.A2000306.h10v05.061.2021085164709.hdf\n",
      "MCD64A1.A2000306.h10v06.061.2021085170029.hdf\n",
      "MCD64A1.A2000306.h10v06.061.2021085170029.hdf\n",
      "MCD64A1.A2000306.h10v07.061.2021085171200.hdf\n",
      "MCD64A1.A2000306.h10v07.061.2021085171200.hdf\n",
      "MCD64A1.A2000306.h10v08.061.2021085165046.hdf\n",
      "MCD64A1.A2000306.h10v09.061.2021085170443.hdf\n",
      "MCD64A1.A2000306.h10v10.061.2021085165419.hdf\n",
      "MCD64A1.A2000306.h10v11.061.2021085171431.hdf\n",
      "MCD64A1.A2000306.h11v02.061.2021085171640.hdf\n",
      "MCD64A1.A2000306.h11v02.061.2021085171640.hdf\n",
      "MCD64A1.A2000306.h11v03.061.2021085171533.hdf\n",
      "MCD64A1.A2000306.h11v03.061.2021085171533.hdf\n",
      "MCD64A1.A2000306.h11v04.061.2021085171640.hdf\n",
      "MCD64A1.A2000306.h11v04.061.2021085171640.hdf\n",
      "MCD64A1.A2000306.h11v05.061.2021085171021.hdf\n",
      "MCD64A1.A2000306.h11v05.061.2021085171021.hdf\n",
      "MCD64A1.A2000306.h11v06.061.2021085171418.hdf\n",
      "MCD64A1.A2000306.h11v06.061.2021085171418.hdf\n",
      "MCD64A1.A2000306.h11v07.061.2021085170739.hdf\n",
      "MCD64A1.A2000306.h11v07.061.2021085170739.hdf\n",
      "MCD64A1.A2000306.h11v08.061.2021085170326.hdf\n",
      "MCD64A1.A2000306.h11v09.061.2021085171736.hdf\n",
      "MCD64A1.A2000306.h11v10.061.2021085172104.hdf\n",
      "MCD64A1.A2000306.h11v11.061.2021085170924.hdf\n",
      "MCD64A1.A2000306.h11v12.061.2021085172952.hdf\n",
      "MCD64A1.A2000306.h12v02.061.2021085171819.hdf\n",
      "MCD64A1.A2000306.h12v02.061.2021085171819.hdf\n",
      "MCD64A1.A2000306.h12v03.061.2021085172655.hdf\n",
      "MCD64A1.A2000306.h12v03.061.2021085172655.hdf\n",
      "MCD64A1.A2000306.h12v04.061.2021085171241.hdf\n",
      "MCD64A1.A2000306.h12v04.061.2021085171241.hdf\n",
      "MCD64A1.A2000306.h12v05.061.2021085171759.hdf\n",
      "MCD64A1.A2000306.h12v05.061.2021085171759.hdf\n",
      "MCD64A1.A2000306.h12v07.061.2021085170959.hdf\n",
      "MCD64A1.A2000306.h12v07.061.2021085170959.hdf\n",
      "MCD64A1.A2000306.h12v08.061.2021085172813.hdf\n",
      "MCD64A1.A2000306.h12v09.061.2021085171233.hdf\n",
      "MCD64A1.A2000306.h12v10.061.2021085170711.hdf\n",
      "MCD64A1.A2000306.h12v11.061.2021085171755.hdf\n",
      "MCD64A1.A2000306.h12v12.061.2021085171613.hdf\n",
      "MCD64A1.A2000306.h12v13.061.2021085171920.hdf\n",
      "MCD64A1.A2000306.h13v02.061.2021085174444.hdf\n",
      "MCD64A1.A2000306.h13v02.061.2021085174444.hdf\n",
      "MCD64A1.A2000306.h13v03.061.2021085174632.hdf\n",
      "MCD64A1.A2000306.h13v03.061.2021085174632.hdf\n",
      "MCD64A1.A2000306.h13v04.061.2021085171634.hdf\n",
      "MCD64A1.A2000306.h13v04.061.2021085171634.hdf\n",
      "MCD64A1.A2000306.h13v08.061.2021085165801.hdf\n",
      "MCD64A1.A2000306.h13v09.061.2021085172851.hdf\n",
      "MCD64A1.A2000306.h13v10.061.2021085172014.hdf\n",
      "MCD64A1.A2000306.h13v11.061.2021085173327.hdf\n",
      "MCD64A1.A2000306.h13v12.061.2021085173722.hdf\n",
      "MCD64A1.A2000306.h13v13.061.2021085173100.hdf\n",
      "MCD64A1.A2000306.h13v14.061.2021085173748.hdf\n",
      "MCD64A1.A2000306.h14v02.061.2021085174446.hdf\n",
      "MCD64A1.A2000306.h14v02.061.2021085174446.hdf\n",
      "MCD64A1.A2000306.h14v03.061.2021085173709.hdf\n",
      "MCD64A1.A2000306.h14v03.061.2021085173709.hdf\n",
      "MCD64A1.A2000306.h14v04.061.2021085174850.hdf\n",
      "MCD64A1.A2000306.h14v04.061.2021085174850.hdf\n",
      "MCD64A1.A2000306.h14v09.061.2021085172730.hdf\n",
      "MCD64A1.A2000306.h14v10.061.2021085174735.hdf\n",
      "MCD64A1.A2000306.h14v11.061.2021085173710.hdf\n",
      "MCD64A1.A2000306.h14v14.061.2021085173913.hdf\n"
     ]
    }
   ],
   "source": [
    "# USA tiles only\n",
    "# use modis grid to slice only continents / areas of interest\n",
    "# https://modis-land.gsfc.nasa.gov/MODLAND_grid.html\n",
    "hreg = re.compile(\"h0[8-9]|h1[0-4]\")\n",
    "vreg = re.compile(\"v0[2-7]\")\n",
    "for fl in file_list:\n",
    "    h = hreg.search(fl)\n",
    "    if h:\n",
    "        print(h.string)\n",
    "        v = vreg.search(h.string)\n",
    "        if v:\n",
    "            print(v.string)"
   ]
  },
  {
   "cell_type": "code",
   "execution_count": 88,
   "metadata": {},
   "outputs": [
    {
     "data": {
      "text/plain": [
       "'MCD64A1.A2000306.h08v03.061.2021085164213.hdf'"
      ]
     },
     "execution_count": 88,
     "metadata": {},
     "output_type": "execute_result"
    }
   ],
   "source": []
  },
  {
   "cell_type": "markdown",
   "metadata": {},
   "source": [
    "***Download a MODIS tile***"
   ]
  },
  {
   "cell_type": "code",
   "execution_count": null,
   "metadata": {},
   "outputs": [],
   "source": [
    "tile = 'MCD19A1.A2020246.h08v05.006.2020270073445'\n",
    "\n",
    "r = requests.get(url, verify=True, stream=True,auth=(login,password))\n",
    "open(f'{tile}.hdf',\"wb\").write(r.content)"
   ]
  },
  {
   "cell_type": "markdown",
   "metadata": {},
   "source": [
    "***Load Data from MODIS HDF***\n",
    "\n",
    "<img src=\"https://www.earthdatascience.org/images/earth-analytics/hierarchical-data-formats/hdf5-example-data-structure-with-metadata.jpg\" width=\"400\" height=\"400\">\n",
    "\n",
    "*HDF files are self describing - this means that all elements (the file itself, groups and datasets) can have associated metadata that describes the information contained within the element. Source: NEON*"
   ]
  },
  {
   "cell_type": "code",
   "execution_count": null,
   "metadata": {},
   "outputs": [],
   "source": [
    "all_bands = []\n",
    "\n",
    "with rio.open(f'{tile}.hdf') as dataset:\n",
    "    # capture meta and CRS data\n",
    "    hdf4_meta = dataset.meta \n",
    "    crs = dataset.read_crs()\n",
    "    \n",
    "    # iterate data layers and select using name\n",
    "    for layer_name in [name for name in dataset.subdatasets if 'grid500m:Sur_refl_500m' in name]:\n",
    "        print(layer_name)\n",
    "        with rio.open(layer_name) as subdataset:\n",
    "            modis_meta = subdataset.profile\n",
    "            all_bands.append(subdataset.read(1))"
   ]
  },
  {
   "cell_type": "markdown",
   "metadata": {},
   "source": [
    "***Transform Spectral Bands 1-7***"
   ]
  },
  {
   "cell_type": "code",
   "execution_count": null,
   "metadata": {},
   "outputs": [],
   "source": [
    "# Stack pre-fire reflectance bands\n",
    "pre_fire_modis = np.stack(all_bands)\n",
    "print(f'Shape: {pre_fire_modis.shape}')\n",
    "print(f'Meta: {modis_meta}')"
   ]
  },
  {
   "cell_type": "code",
   "execution_count": null,
   "metadata": {},
   "outputs": [],
   "source": [
    "# Mask no data values\n",
    "pre_fire_modis = ma.masked_where(pre_fire_modis == modis_meta[\"nodata\"], pre_fire_modis)"
   ]
  },
  {
   "cell_type": "code",
   "execution_count": null,
   "metadata": {},
   "outputs": [],
   "source": [
    "# plot\n",
    "ep.plot_bands(pre_fire_modis,scale=False,cols=3)\n",
    "plt.show()"
   ]
  },
  {
   "cell_type": "code",
   "execution_count": null,
   "metadata": {},
   "outputs": [],
   "source": [
    "# plot Red, Green and Blue bands\n",
    "ep.plot_rgb(pre_fire_modis,rgb=[0,3,2]) # RGB bands 1,4,3 (see user guide)\n",
    "plt.show()"
   ]
  },
  {
   "cell_type": "markdown",
   "metadata": {},
   "source": [
    "***Write to GeoTiff***"
   ]
  },
  {
   "cell_type": "code",
   "execution_count": null,
   "metadata": {},
   "outputs": [],
   "source": [
    "# prep metadata object\n",
    "output_meta = modis_meta.copy()\n",
    "output_meta['driver'] = 'GTiff'\n",
    "output_meta['count'] = pre_fire_modis.shape[0]\n",
    "output_meta"
   ]
  },
  {
   "cell_type": "code",
   "execution_count": null,
   "metadata": {},
   "outputs": [],
   "source": [
    "out_path = f'{tile}.tif'\n",
    "# Export file as a geotiff\n",
    "with rio.open(out_path, \"w\", **output_meta) as dest:\n",
    "    dest.write(pre_fire_modis)"
   ]
  },
  {
   "cell_type": "markdown",
   "metadata": {},
   "source": [
    "***Load & Reproject GeoTiff***\n",
    "\n",
    "Geopandas has a convinient global country dataset for plotting."
   ]
  },
  {
   "cell_type": "code",
   "execution_count": null,
   "metadata": {},
   "outputs": [],
   "source": [
    "fig, ax = plt.subplots(figsize=(7,7))\n",
    "countries = geopandas.read_file(geopandas.datasets.get_path('naturalearth_lowres'))\n",
    "NA = countries.loc[countries['continent']=='North America']\n",
    "NA.plot(ax=ax, edgecolor='green',facecolor='grey',alpha=0.5)\n",
    "ax.set_xticks(np.arange(-180,0,30))\n",
    "ax.set_yticks(np.arange(0,90,30))\n",
    "ax.set_xlabel('Longitude')\n",
    "ax.set_ylabel('Latitude')\n",
    "ax.grid(True,color='black',lw=0.5,linestyle='--')\n",
    "ax.set_title(f\"EPSG:{NA.crs.to_epsg()}\");"
   ]
  },
  {
   "cell_type": "markdown",
   "metadata": {},
   "source": [
    "However, in order to plot our MODIS Bands1-7 GeoTiff we will need to reproject the data from EPSG:9122 to the same CRS EPSG:4326 as GeoPandas. We can do this using [rasterio](https://rasterio.readthedocs.io/en/latest/topics/reproject.html) (see also[ this guide from Earth Lab at University of Colorado, Boulder)](https://www.earthdatascience.org/courses/use-data-open-source-python/intro-raster-data-python/raster-data-processing/reproject-raster/).\n",
    "\n",
    "Altering CRS and reprojection is usefull for many geospatial analysis. The [OSGEO GDAL](https://gdal.org/) \"*Geospatial Data Abstraction Library*\" is another great tool for reprojection and QGIS provide a nice background on the topic [here](https://docs.qgis.org/3.10/en/docs/training_manual/vector_analysis/reproject_transform.html?highlight=reprojecting)"
   ]
  },
  {
   "cell_type": "code",
   "execution_count": null,
   "metadata": {},
   "outputs": [],
   "source": [
    "from rasterio.warp import calculate_default_transform, reproject, Resampling"
   ]
  },
  {
   "cell_type": "code",
   "execution_count": null,
   "metadata": {},
   "outputs": [],
   "source": [
    "# Set desitnation CRS\n",
    "# rio.crs.CRS.from_epsg(4326)\n",
    "dst_crs = f\"EPSG:{NA.crs.to_epsg()}\"\n",
    "\n",
    "# set out path\n",
    "out_path_rproj = out_path.replace('.tif','-4326.tif')\n",
    "\n",
    "with rio.open(out_path) as src:\n",
    "    # get src bounds and transform\n",
    "    transform, width, height = calculate_default_transform(src.crs, dst_crs, src.width, src.height, *src.bounds)\n",
    "    kwargs = src.meta.copy()\n",
    "    kwargs.update({'crs': dst_crs,\n",
    "                   'transform': transform,\n",
    "                   'width': width,\n",
    "                   'height': height})\n",
    "    \n",
    "    # reproject and write to file\n",
    "    with rio.open(out_path_rproj, 'w', **kwargs) as dst:\n",
    "        for i in range(1, src.count + 1):\n",
    "            reproject(source=rio.band(src, i),\n",
    "                      destination=rio.band(dst, i),\n",
    "                      src_transform=src.transform,\n",
    "                      src_crs=src.crs,\n",
    "                      dst_transform=transform,\n",
    "                      dst_crs=dst_crs,\n",
    "                      resampling=Resampling.nearest)"
   ]
  },
  {
   "cell_type": "code",
   "execution_count": null,
   "metadata": {},
   "outputs": [],
   "source": [
    "# plot the result\n",
    "fig, axs = plt.subplots(1,2,figsize=(14,7))\n",
    "\n",
    "raster = rio.open(out_path_rproj)\n",
    "rio.plot.show((raster,1,4,3), ax=axs[0])\n",
    "NA.plot(ax=axs[0], edgecolor='green',facecolor='grey',alpha=0.5)\n",
    "axs[0].set_xticks(np.arange(-180,0,30))\n",
    "axs[0].set_yticks(np.arange(0,90,30))\n",
    "axs[0].set_xlabel('Longitude')\n",
    "axs[0].set_ylabel('Latitude')\n",
    "axs[0].grid(True,color='black',lw=0.5,linestyle='--')\n",
    "axs[0].set_title(f\"EPSG:{NA.crs.to_epsg()}\")\n",
    "\n",
    "raster = rio.open(out_path_rproj)\n",
    "rio.plot.show((raster,1,4,3), ax=axs[1])\n",
    "NA.plot(ax=axs[1], edgecolor='green',facecolor='grey',alpha=0.5)\n",
    "axs[1].set_xticks(np.arange(-180,0,30))\n",
    "axs[1].set_yticks(np.arange(0,90,30))\n",
    "axs[1].set_xlabel('Longitude')\n",
    "axs[1].set_ylabel('Latitude')\n",
    "axs[1].grid(True,color='black',lw=0.5,linestyle='--')\n",
    "axs[1].set_title(f\"EPSG:{NA.crs.to_epsg()}\")\n",
    "axs[1].set_xlim(-140,-55)\n",
    "axs[1].set_ylim(10,50);"
   ]
  },
  {
   "cell_type": "markdown",
   "metadata": {},
   "source": [
    "***Leaflet***"
   ]
  },
  {
   "cell_type": "code",
   "execution_count": null,
   "metadata": {},
   "outputs": [],
   "source": [
    "from ipyleaflet import Map, basemaps, basemap_to_tiles,ImageOverlay\n",
    "import matplotlib.pyplot as plt\n",
    "%matplotlib inline\n",
    "\n",
    "# !jupyter labextension install jupyter-leaflet\n",
    "# !jupyter nbextension enable --py --sys-prefix ipyleaflet\n",
    "# !jupyter labextension install @jupyter-widgets/jupyterlab-manager"
   ]
  },
  {
   "cell_type": "code",
   "execution_count": null,
   "metadata": {},
   "outputs": [],
   "source": [
    "m = Map(basemap=basemap_to_tiles(basemaps.NASAGIBS.ViirsEarthAtNight2012, \"2017-04-08\"),center=(30,-90),zoom=4)\n",
    "image = ImageOverlay(url=out_path_rproj,bounds=((raster.bounds[1],raster.bounds[0]),(raster.bounds[3],raster.bounds[2])))\n",
    "m.add_layer(image)\n",
    "m"
   ]
  },
  {
   "cell_type": "markdown",
   "metadata": {},
   "source": [
    "### References\n",
    "- [Official MODIS authentication Python and R scripts](https://lpdaac.usgs.gov/tools/data-prep-scripts/)"
   ]
  }
 ],
 "metadata": {
  "kernelspec": {
   "display_name": "Python [conda env:geo]",
   "language": "python",
   "name": "conda-env-geo-py"
  },
  "language_info": {
   "codemirror_mode": {
    "name": "ipython",
    "version": 3
   },
   "file_extension": ".py",
   "mimetype": "text/x-python",
   "name": "python",
   "nbconvert_exporter": "python",
   "pygments_lexer": "ipython3",
   "version": "3.7.10"
  }
 },
 "nbformat": 4,
 "nbformat_minor": 4
}
