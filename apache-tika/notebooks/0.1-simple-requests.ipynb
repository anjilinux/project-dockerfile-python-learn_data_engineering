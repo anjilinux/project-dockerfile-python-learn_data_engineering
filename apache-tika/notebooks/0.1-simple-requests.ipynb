{
 "cells": [
  {
   "cell_type": "markdown",
   "metadata": {},
   "source": [
    "### Apache-Tika\n",
    "\n",
    " - [Docker Apache-Tika with Python](https://medium.com/analytics-vidhya/data-extraction-from-pdf-documents-using-apache-tika-and-python-b56e4bc79245)\n",
    " - [python-tika package](https://medium.com/@justinboylantoomey/fast-text-extraction-with-python-and-tika-41ac34b0fe61)\n",
    "  - [and another](https://cbrownley.wordpress.com/2016/06/26/parsing-pdfs-in-python-with-tika/)\n",
    "  \n",
    " - [configure python-tika](https://stackoverflow.com/a/48153647/4538066) to work with local tika server"
   ]
  },
  {
   "cell_type": "code",
   "execution_count": 1,
   "metadata": {},
   "outputs": [],
   "source": [
    "import requests\n",
    "import os"
   ]
  },
  {
   "cell_type": "markdown",
   "metadata": {},
   "source": [
    "**envs**"
   ]
  },
  {
   "cell_type": "code",
   "execution_count": 100,
   "metadata": {},
   "outputs": [
    {
     "name": "stdout",
     "output_type": "stream",
     "text": [
      "['normal.pdf', 'scanned.pdf']\n"
     ]
    }
   ],
   "source": [
    "# set env vars\n",
    "tika = \"http://localhost:9998/\"\n",
    "path = os.getcwd()\n",
    "files = os.listdir(os.path.join(path,'../pdf-samples'))\n",
    "\n",
    "print(files)"
   ]
  },
  {
   "cell_type": "code",
   "execution_count": 101,
   "metadata": {},
   "outputs": [
    {
     "data": {
      "text/plain": [
       "'C:\\\\Github\\\\training.data_eng\\\\apache-tika\\\\notebooks'"
      ]
     },
     "execution_count": 101,
     "metadata": {},
     "output_type": "execute_result"
    }
   ],
   "source": [
    "path"
   ]
  },
  {
   "cell_type": "code",
   "execution_count": 102,
   "metadata": {},
   "outputs": [
    {
     "data": {
      "text/plain": [
       "'C:\\\\Github\\\\training.data_eng\\\\apache-tika\\\\notebooks\\\\normal.pdf'"
      ]
     },
     "execution_count": 102,
     "metadata": {},
     "output_type": "execute_result"
    }
   ],
   "source": [
    "test_file = os.path.join(path,files[0])\n",
    "test_file"
   ]
  },
  {
   "cell_type": "markdown",
   "metadata": {},
   "source": [
    "### tika details"
   ]
  },
  {
   "cell_type": "code",
   "execution_count": 103,
   "metadata": {},
   "outputs": [
    {
     "name": "stdout",
     "output_type": "stream",
     "text": [
      "This is Tika Server (Apache Tika 1.22). Please PUT\n",
      "\n"
     ]
    }
   ],
   "source": [
    "# connect to Tika\n",
    "print(requests.get(tika+'tika').text)"
   ]
  },
  {
   "cell_type": "code",
   "execution_count": 104,
   "metadata": {},
   "outputs": [
    {
     "name": "stdout",
     "output_type": "stream",
     "text": [
      "{\"children\":[{\"composite\":false,\"name\":\"org.apache.tika.detect.OverrideDetector\"},{\"composite\":false,\"name\":\"org.apache.tika.parser.microsoft.POIFSContainerDetector\"},{\"composite\":false,\"name\":\"org.apache.tika.parser.pkg.ZipContainerDetector\"},{\"composite\":false,\"name\":\"org.gagravarr.tika.OggDetector\"},{\"composite\":false,\"name\":\"org.apache.tika.mime.MimeTypes\"}],\"composite\":true,\"name\":\"org.apache.tika.detect.DefaultDetector\"}\n"
     ]
    }
   ],
   "source": [
    "# show detectors \n",
    "print(requests.get(tika+'detectors', headers={'Accept': 'application/json'}).text)"
   ]
  },
  {
   "cell_type": "markdown",
   "metadata": {},
   "source": [
    "### [using Docker tika](https://cwiki.apache.org/confluence/display/tika/TikaJAXRS#TikaJAXRS-UsingprebuiltDockerimage)\n",
    "\n",
    "All services that take files use HTTP \"PUT\" requests. When \"PUT\" is used, the original file must be sent in request body without any additional encoding (do not use multipart/form-data or other containers).\n",
    "\n",
    "Additionally, TikaResource, Metadata and RecursiveMetadata Services accept POST multipart/form-data requests, where the original file is sent as a single attachment.\n",
    "\n",
    "Information services (eg defined mimetypes, defined parsers etc) work with HTML \"GET\" requests.\n",
    "\n",
    "You may optionally specify content type in \"Content-Type\" header. If you do not specify mime type, Tika will use its detectors to guess it.\n",
    "\n",
    "You may specify additional identifier in URL after resource name, like \"/tika/my-file-i-sent-to-tika-resource\" for \"/tika\" resource. Tikaserver uses this name only for logging, so you may put there file name, UUID or any other identifier (do not forget to url-encode any special characters).\n",
    "\n",
    "Resources may return following HTTP codes:\n",
    "\n",
    "    200 Ok - request completed sucessfully\n",
    "    204 No content - request completed sucessfully, result is empty\n",
    "    422 Unprocessable Entity - Unsupported mime-type, encrypted document & etc\n",
    "    500 Error - Error while processing document "
   ]
  },
  {
   "cell_type": "code",
   "execution_count": 105,
   "metadata": {},
   "outputs": [],
   "source": [
    "dpath = 'C:\\Github\\training.data_eng\\apache-tika\\pdf-samples'"
   ]
  },
  {
   "cell_type": "code",
   "execution_count": 106,
   "metadata": {},
   "outputs": [
    {
     "name": "stdout",
     "output_type": "stream",
     "text": [
      "200 : OK\n"
     ]
    },
    {
     "data": {
      "text/plain": [
       "{'Content-Encoding': 'ISO-8859-1',\n",
       " 'Content-Type': 'text/plain; charset=ISO-8859-1',\n",
       " 'X-Parsed-By': ['org.apache.tika.parser.DefaultParser',\n",
       "  'org.apache.tika.parser.csv.TextAndCSVParser'],\n",
       " 'language': 'en'}"
      ]
     },
     "execution_count": 106,
     "metadata": {},
     "output_type": "execute_result"
    }
   ],
   "source": [
    "# get file meta data\n",
    "response = requests.put(tika+'meta',\n",
    "                        os.path.join(dpath,files[1]),\n",
    "                        headers={'Accept': 'application/json'}\n",
    "                       )\n",
    "\n",
    "print(f'{response.status_code} : {response.reason}')\n",
    "response.json()"
   ]
  },
  {
   "cell_type": "code",
   "execution_count": 116,
   "metadata": {},
   "outputs": [
    {
     "name": "stdout",
     "output_type": "stream",
     "text": [
      "200 : OK\n"
     ]
    }
   ],
   "source": [
    "# get file meta data\n",
    "response = requests.put(tika+'tika/main',\n",
    "                        os.path.join(dpath,files[1]),\n",
    "                        #headers={'Accept': 'text/plain'}\n",
    "                       )\n",
    "\n",
    "print(f'{response.status_code} : {response.reason}')"
   ]
  },
  {
   "cell_type": "code",
   "execution_count": 117,
   "metadata": {},
   "outputs": [
    {
     "data": {
      "text/plain": [
       "''"
      ]
     },
     "execution_count": 117,
     "metadata": {},
     "output_type": "execute_result"
    }
   ],
   "source": [
    "response.text"
   ]
  },
  {
   "cell_type": "code",
   "execution_count": 110,
   "metadata": {},
   "outputs": [
    {
     "data": {
      "text/plain": [
       "'C:\\\\Github\\training.data_eng\\x07pache-tika\\\\pdf-samples\\\\scanned.pdf'"
      ]
     },
     "execution_count": 110,
     "metadata": {},
     "output_type": "execute_result"
    }
   ],
   "source": [
    "dp = str(os.path.join(dpath,files[1]))\n",
    "dp\n",
    "#!curl -T dp tika+'meta'"
   ]
  },
  {
   "cell_type": "code",
   "execution_count": 94,
   "metadata": {},
   "outputs": [
    {
     "data": {
      "text/plain": [
       "'C:\\\\Github\\training.data_eng\\x07pache-tika\\\\pdf-samples\\\\scanned.pdf'"
      ]
     },
     "execution_count": 94,
     "metadata": {},
     "output_type": "execute_result"
    }
   ],
   "source": [
    "os.path.join(dpath,files[1])"
   ]
  },
  {
   "cell_type": "code",
   "execution_count": null,
   "metadata": {},
   "outputs": [],
   "source": []
  }
 ],
 "metadata": {
  "kernelspec": {
   "display_name": "Python 3",
   "language": "python",
   "name": "python3"
  },
  "language_info": {
   "codemirror_mode": {
    "name": "ipython",
    "version": 3
   },
   "file_extension": ".py",
   "mimetype": "text/x-python",
   "name": "python",
   "nbconvert_exporter": "python",
   "pygments_lexer": "ipython3",
   "version": "3.7.4"
  }
 },
 "nbformat": 4,
 "nbformat_minor": 4
}
