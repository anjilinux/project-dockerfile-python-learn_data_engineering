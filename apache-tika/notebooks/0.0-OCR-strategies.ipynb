{
 "cells": [
  {
   "cell_type": "markdown",
   "metadata": {},
   "source": [
    "# Apache Tika\n",
    "## [TIKA OCR](https://cwiki.apache.org/confluence/display/TIKA/TikaOCR)\n",
    "\n",
    "#### [Guide on OCR-ing PDFs](https://cwiki.apache.org/confluence/display/tika/PDFParser%20(Apache%20PDFBox))\n",
    "\n",
    "There are two ways of running OCR on PDFs:\n",
    "1. Extracting the inline images and letting Tesseract run on each inline image.\n",
    "2. Rendering each PDF page as a single image and running Tesseract on that single image. \n",
    "\n",
    "[tabula - alternative package](https://tabula.technology/)"
   ]
  },
  {
   "cell_type": "code",
   "execution_count": 68,
   "metadata": {},
   "outputs": [
    {
     "name": "stdout",
     "output_type": "stream",
     "text": [
      "image.JPG\n",
      "normal.pdf\n",
      "scanned.pdf\n"
     ]
    }
   ],
   "source": [
    "import json\n",
    "!ls pdf-samples"
   ]
  },
  {
   "cell_type": "markdown",
   "metadata": {},
   "source": [
    "### Option 1: run on each inline image"
   ]
  },
  {
   "cell_type": "code",
   "execution_count": 75,
   "metadata": {},
   "outputs": [],
   "source": [
    "scanned = !curl -T  pdf-samples/scanned.pdf http://localhost:9998/rmeta/text --header \"X-Tika-PDFextractInlineImages: true\""
   ]
  },
  {
   "cell_type": "code",
   "execution_count": 76,
   "metadata": {},
   "outputs": [],
   "source": [
    "normal = !curl -T  pdf-samples/normal.pdf http://localhost:9998/rmeta/text --header \"X-Tika-PDFextractInlineImages: true\""
   ]
  },
  {
   "cell_type": "code",
   "execution_count": 77,
   "metadata": {},
   "outputs": [],
   "source": [
    "image = !curl -T  pdf-samples/image.JPG http://localhost:9998/rmeta/text --header \"X-Tika-PDFextractInlineImages: true\""
   ]
  },
  {
   "cell_type": "markdown",
   "metadata": {},
   "source": [
    "### Option 2: render each page and then run OCR on that rendered image"
   ]
  },
  {
   "cell_type": "code",
   "execution_count": 79,
   "metadata": {},
   "outputs": [],
   "source": [
    "scanned = !curl -T  pdf-samples/scanned.pdf http://localhost:9998/rmeta/text --header \"X-Tika-PDFOcrStrategy: ocr_only\""
   ]
  },
  {
   "cell_type": "code",
   "execution_count": null,
   "metadata": {},
   "outputs": [],
   "source": [
    "normal = !curl -T  pdf-samples/normal.pdf http://localhost:9998/rmeta/text --header \"X-Tika-PDFOcrStrategy: ocr_only\""
   ]
  },
  {
   "cell_type": "code",
   "execution_count": 80,
   "metadata": {},
   "outputs": [],
   "source": [
    "image = !curl -T  pdf-samples/image.JPG http://localhost:9998/rmeta/text --header \"X-Tika-PDFOcrStrategy: ocr_only\""
   ]
  },
  {
   "cell_type": "markdown",
   "metadata": {},
   "source": [
    "Other Options:"
   ]
  },
  {
   "cell_type": "markdown",
   "metadata": {},
   "source": [
    "**normal pdf**"
   ]
  },
  {
   "cell_type": "code",
   "execution_count": 73,
   "metadata": {},
   "outputs": [
    {
     "name": "stdout",
     "output_type": "stream",
     "text": [
      "['  % Total    % Received % Xferd  Average Speed   Time    Time     Time  Current', '                                 Dload  Upload   Total   Spent    Left  Speed', '', '  0     0    0     0    0     0      0      0 --:--:-- --:--:-- --:--:--     0', '100  3989    0   961  100  3028  20446  64425 --:--:-- --:--:-- --:--:-- 84872', ' A Simple PDF File ', ' This is a small demonstration .pdf file - ', '', ' just for use in the Virtual Mechanics tutorials. More text. And more ', ' text. And more text. And more text. And more text. ', '', ' And more text. And more text. And more text. And more text. And more ', ' text. And more text. Boring, zzzzz. And more text. And more text. And ', ' more text. And more text. And more text. And more text. And more text. ', ' And more text. And more text. ', '', ' And more text. And more text. And more text. And more text. And more ', ' text. And more text. And more text. Even more. Continued on page 2 ...', '', '', '', ' Simple PDF File 2 ', ' ...continued from page 1. Yet more text. And more text. And more text. ', ' And more text. And more text. And more text. And more text. And more ', ' text. Oh, how boring typing this stuff. But not as boring as watching ', ' paint dry. And more text. And more text. And more text. And more text. ', ' Boring.  More, a little more text. The end, and just as well. ', '', '', '']\n"
     ]
    }
   ],
   "source": [
    "a = !curl -T pdf-samples/normal.pdf http://localhost:9998/tika --header \"X-Tika-OCRLanguage: eng\"\n",
    "print(a)"
   ]
  },
  {
   "cell_type": "markdown",
   "metadata": {},
   "source": [
    "**scanned pdf**"
   ]
  },
  {
   "cell_type": "code",
   "execution_count": 37,
   "metadata": {},
   "outputs": [
    {
     "name": "stdout",
     "output_type": "stream",
     "text": [
      "['  % Total    % Received % Xferd  Average Speed   Time    Time     Time  Current', '                                 Dload  Upload   Total   Spent    Left  Speed', '', '  0     0    0     0    0     0      0      0 --:--:-- --:--:-- --:--:--     0', '100 70491    0     2  100 70489     42  1464k --:--:-- --:--:-- --:--:-- 1464k', '', '']\n"
     ]
    }
   ],
   "source": [
    "b = !curl -T pdf-samples/scanned.pdf http://localhost:9998/tika --header \"X-Tika-OCRLanguage: eng\"\n",
    "print(b)"
   ]
  },
  {
   "cell_type": "markdown",
   "metadata": {},
   "source": [
    "**Text wthin image**"
   ]
  },
  {
   "cell_type": "code",
   "execution_count": 38,
   "metadata": {},
   "outputs": [
    {
     "name": "stdout",
     "output_type": "stream",
     "text": [
      "['  % Total    % Received % Xferd  Average Speed   Time    Time     Time  Current', '                                 Dload  Upload   Total   Spent    Left  Speed', '', '  0     0    0     0    0     0      0      0 --:--:-- --:--:-- --:--:--     0', '100 64109    0     0  100 64109      0  52634  0:00:01  0:00:01 --:--:-- 52634', '100 64109    0     0  100 64109      0  28903  0:00:02  0:00:02 --:--:-- 28903', '100 64109    0     0  100 64109      0  19922  0:00:03  0:00:03 --:--:-- 19922', '100 64109    0     0  100 64109      0  15198  0:00:04  0:00:04 --:--:-- 15198', '100 64858    0   749  100 64109    148  12704  0:00:05  0:00:05 --:--:-- 12853', '100 64858    0   749  100 64109    148  12704  0:00:05  0:00:05 --:--:--   195Overriding the configured language as part of your request', '', 'Different requests may need processing using different language models. These can be specified for specific requests using the X-Tika-OCRLanguage custom header. An example of this is shown', 'below:', '', 'curl -T /path/to/tiff/image.jpg http: //localhost:9998/tike --header \"X-Tika-OCRLanguage: engâ€�', 'Or for multiple languages:', '', 'curl - /path/to/tiff/image.jpg http: //localhost:9998/tike --header \"X-Tika-OCRLanguage: eng+fra\"', '', 'Overriding Default Configuration', 'When using the OCR Parser Tika will use the following default settings:', '', 'Tesseract installation path =', '# Language dictionary = â€œen', '# Page Segmentation Mode', 'Â© Minmum file size = 0', '', ' ', '', ' ', '', 'Maximum file size = 2147483647', 'Timeout = 120', '', '']\n"
     ]
    }
   ],
   "source": [
    "c = !curl -T pdf-samples/image.JPG http://localhost:9998/tika --header \"X-Tika-OCRLanguage: eng\"\n",
    "print(c)"
   ]
  },
  {
   "cell_type": "code",
   "execution_count": null,
   "metadata": {},
   "outputs": [],
   "source": []
  }
 ],
 "metadata": {
  "kernelspec": {
   "display_name": "Python [conda env:machine-learning]",
   "language": "python",
   "name": "conda-env-machine-learning-py"
  },
  "language_info": {
   "codemirror_mode": {
    "name": "ipython",
    "version": 3
   },
   "file_extension": ".py",
   "mimetype": "text/x-python",
   "name": "python",
   "nbconvert_exporter": "python",
   "pygments_lexer": "ipython3",
   "version": "3.7.5"
  }
 },
 "nbformat": 4,
 "nbformat_minor": 4
}
